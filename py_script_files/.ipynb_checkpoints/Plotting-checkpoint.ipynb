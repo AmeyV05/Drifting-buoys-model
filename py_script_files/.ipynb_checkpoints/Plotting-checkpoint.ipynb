{
 "cells": [
  {
   "cell_type": "markdown",
   "metadata": {},
   "source": [
    "This notebook is for plotting of the simulated and observed buoy data. One can run the individual cell blocks to plot and save the files in the respective folders of model runs. \n",
    "\n",
    "Let us start with loading the plotting and data creating modules. "
   ]
  },
  {
   "cell_type": "code",
   "execution_count": 1,
   "metadata": {},
   "outputs": [],
   "source": [
    "import importlib\n",
    "import numpy as np\n",
    "import pandas as pd\n",
    "import matplotlib.pyplot as plt\n",
    "import plots\n",
    "import readsimdata\n",
    "import settings\n",
    "import generalfunc as gf"
   ]
  },
  {
   "cell_type": "code",
   "execution_count": 2,
   "metadata": {},
   "outputs": [],
   "source": [
    "#plotting parameters.\n",
    "params = { \"pgf.texsystem\": \"pdflatex\",\n",
    "           \"pgf.preamble\": [ r\"\\usepackage[utf8x]{inputenc}\",\n",
    "                             r\"\\usepackage[T1]{fontenc}\",\n",
    "                             r\"\\usepackage{cmbright}\"],\n",
    "            'legend.fontsize': '10',\n",
    "            'axes.labelsize': '11',\n",
    "            'axes.titlesize':'11',\n",
    "            'xtick.labelsize':'11',\n",
    "            'ytick.labelsize':'11',\n",
    "            \"font.weight\":'bold'}\n",
    "plt.rcParams.update(params)"
   ]
  },
  {
   "cell_type": "markdown",
   "metadata": {},
   "source": [
    "The first step is to give the buoy name in the variable $Bnum$. The options are $[02,03,09,13,14,16]$ given as string inputs. Following this, we need the folder where the data is stored. "
   ]
  },
  {
   "cell_type": "code",
   "execution_count": 3,
   "metadata": {},
   "outputs": [],
   "source": [
    "Bnum='16'\n",
    "bname='BUOY_'+Bnum\n",
    "s=settings.settings()\n",
    "forcevec=s['forcevec'];h=s['h'];trate=s['trate']\n",
    "(forcenam,folname)=gf.forcedetail(forcevec,trate,h)\n",
    "loc='../../generated_data/'+bname+'/'+folname+'/'"
   ]
  },
  {
   "cell_type": "markdown",
   "metadata": {},
   "source": [
    "Now we run a function from the module $readsimdata$ to obtain a dictionary of all the simulated and observed data useful for plotting."
   ]
  },
  {
   "cell_type": "code",
   "execution_count": 4,
   "metadata": {
    "scrolled": true
   },
   "outputs": [],
   "source": [
    "importlib.reload(readsimdata)\n",
    "SD=readsimdata.readsimdata(Bnum)"
   ]
  },
  {
   "cell_type": "code",
   "execution_count": 5,
   "metadata": {},
   "outputs": [],
   "source": [
    "#Transformation of a time vector to remove the year component from it. As we know all the buoys were in 2014.\n",
    "Ti=SD['T']\n",
    "T=[]\n",
    "for i in range(len(Ti)):\n",
    "    elem=(Ti[i][0:4]+Ti[i][9:15]).replace('-','/')\n",
    "    T=np.append(T,elem)"
   ]
  },
  {
   "cell_type": "markdown",
   "metadata": {},
   "source": [
    "Now we have a dictionary containing all the datasets we need. Let's get into plotting. The first easy one we would like to do is plot for simulated velocities. "
   ]
  },
  {
   "cell_type": "code",
   "execution_count": 6,
   "metadata": {},
   "outputs": [],
   "source": [
    "importlib.reload(plots)\n",
    "#Uis is sim and Uib is observed buoy\n",
    "Uis=SD['Uis'];Vis=SD['Vis']\n",
    "Uisvec=np.column_stack((Uis,Vis))\n",
    "Uib=SD['Uib'];Vib=SD['Vib']\n",
    "Uibvec=np.column_stack((Uib,Vib))\n",
    "plots.plticevel(Uisvec,Uibvec,T,loc)"
   ]
  },
  {
   "cell_type": "markdown",
   "metadata": {},
   "source": [
    "Next we try and plot the fourier transforms of longitude and latitude time series and the velocity time series."
   ]
  },
  {
   "cell_type": "code",
   "execution_count": 7,
   "metadata": {},
   "outputs": [],
   "source": [
    "importlib.reload(plots)\n",
    "#time in hours for FT\n",
    "Tft=SD['Tft']\n",
    "argtide=SD['tidearg'];argcor=SD['corarg']\n",
    "argval=np.append(Tft[argtide],Tft[argcor])\n",
    "# X and Y amplitudes (lon and lat)\n",
    "units='deg'\n",
    "Lonsft=np.row_stack((SD['Xsam'],SD['Xsph']))\n",
    "Lonbft=np.row_stack((SD['Xbam'],SD['Xbph']))\n",
    "# plot for longitude.\n",
    "plots.pltFT(loc,'LongitudeFT',Lonsft,Lonbft,units,Tft,argval)\n",
    "# latitude\n",
    "Latsft=np.row_stack((SD['Ysam'],SD['Ysph']))\n",
    "Latbft=np.row_stack((SD['Ybam'],SD['Ybph']))\n",
    "# plot for longitude.\n",
    "plots.pltFT(loc,'LatitudeFT',Lonsft,Lonbft,units,Tft,argval)\n",
    "#Velocity\n",
    "units='m/s'\n",
    "Usft=np.row_stack((SD['Usam'],SD['Usph']))\n",
    "Ubft=np.row_stack((SD['Ubam'],SD['Ubph']))\n",
    "# plot for u velocity\n",
    "plots.pltFT(loc,'U-FT',Lonsft,Lonbft,units,Tft,argval)\n",
    "Vsft=np.row_stack((SD['Vsam'],SD['Vsph']))\n",
    "Vbft=np.row_stack((SD['Vbam'],SD['Vbph']))\n",
    "# plot for u velocity\n",
    "plots.pltFT(loc,'V-FT',Lonsft,Lonbft,units,Tft,argval)"
   ]
  },
  {
   "cell_type": "markdown",
   "metadata": {},
   "source": [
    "Plotting the amplitude and phases from the fourier transforms gives a nice idea of which are the dominant frequencies of the sea ice motion. And as expected, it is indeed the M2 tidal frequencies. Next we try and see the velocity plots of the residuals of the sea ice observed and simulated motion. By resdiuals we mean that the plots of velocity vectors where the mean drift is subtracted from it."
   ]
  },
  {
   "cell_type": "code",
   "execution_count": 8,
   "metadata": {},
   "outputs": [],
   "source": [
    "# tidal velocity plots.\n",
    "# time res vector based on numtaps\n",
    "numtaps=2*24*2+1\n",
    "fedge=int(numtaps/2)\n",
    "Tres=T[fedge:-fedge]\n",
    "Usres=SD['Usres'];Vsres=SD['Vsres']\n",
    "Ubres=SD['Ubres'];Vbres=SD['Vbres']\n"
   ]
  },
  {
   "cell_type": "code",
   "execution_count": 12,
   "metadata": {},
   "outputs": [],
   "source": [
    "importlib.reload(plots)\n",
    "midindex=288*7  #this is index for splitting the quiver plot. It varies per buoy.\n",
    "ylim=0.9 #this is the y axis limit in the graph.\n",
    "labelname=['sim','obs']\n",
    "name='sim-obs'\n",
    "plots.pltvelquiver(loc,name,Tres,midindex,ylim,Usres,Vsres,Ubres,Vbres,labelname)"
   ]
  },
  {
   "cell_type": "code",
   "execution_count": 18,
   "metadata": {},
   "outputs": [],
   "source": [
    "# reading tidal data of GTSM from the main buoy file.\n",
    "obsfil='../../generated_data/'+bname+'/Pos_Vel_data.xlsx'\n",
    "obsdf=pd.read_excel(obsfil)\n",
    "Ut=obsdf['Ut'];Vt=obsdf['Vt']\n",
    "Uts=Ut[fedge:-fedge];Vts=Vt[fedge:-fedge]\n"
   ]
  },
  {
   "cell_type": "code",
   "execution_count": 19,
   "metadata": {},
   "outputs": [],
   "source": [
    "name='tidcur-obs'\n",
    "labelname=['gtsm','obs']\n",
    "plots.pltvelquiver(loc,name,Tres,midindex,ylim,Uts,Vts,Ubres,Vbres,labelname)\n",
    "name='tidcur-sim'\n",
    "labelname=['gtsm','sim']\n",
    "plots.pltvelquiver(loc,name,Tres,midindex,ylim,Uts,Vts,Usres,Vsres,labelname)"
   ]
  },
  {
   "cell_type": "code",
   "execution_count": 14,
   "metadata": {},
   "outputs": [],
   "source": []
  },
  {
   "cell_type": "code",
   "execution_count": 16,
   "metadata": {},
   "outputs": [],
   "source": []
  },
  {
   "cell_type": "code",
   "execution_count": 17,
   "metadata": {},
   "outputs": [],
   "source": []
  }
 ],
 "metadata": {
  "kernelspec": {
   "display_name": "Python 3",
   "language": "python",
   "name": "python3"
  },
  "language_info": {
   "codemirror_mode": {
    "name": "ipython",
    "version": 3
   },
   "file_extension": ".py",
   "mimetype": "text/x-python",
   "name": "python",
   "nbconvert_exporter": "python",
   "pygments_lexer": "ipython3",
   "version": "3.7.5"
  }
 },
 "nbformat": 4,
 "nbformat_minor": 4
}
