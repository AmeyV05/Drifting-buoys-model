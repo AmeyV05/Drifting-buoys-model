{
 "cells": [
  {
   "cell_type": "markdown",
   "metadata": {},
   "source": [
    "This notebook is for plotting of the simulated and observed buoy data. One can run the individual cell blocks to plot and save the files in the respective folders of model runs. \n",
    "\n",
    "Let us start with loading the plotting and data creating modules. "
   ]
  },
  {
   "cell_type": "code",
   "execution_count": 2,
   "metadata": {},
   "outputs": [],
   "source": [
    "import importlib\n",
    "import numpy as np\n",
    "import matplotlib.pyplot as plt\n",
    "import plots\n",
    "import readsimdata\n",
    "import settings\n",
    "import generalfunc as gf"
   ]
  },
  {
   "cell_type": "code",
   "execution_count": 3,
   "metadata": {},
   "outputs": [],
   "source": [
    "#plotting parameters.\n",
    "params = { \"pgf.texsystem\": \"pdflatex\",\n",
    "           \"pgf.preamble\": [ r\"\\usepackage[utf8x]{inputenc}\",\n",
    "                             r\"\\usepackage[T1]{fontenc}\",\n",
    "                             r\"\\usepackage{cmbright}\"],\n",
    "            'legend.fontsize': '10',\n",
    "            'axes.labelsize': '11',\n",
    "            'axes.titlesize':'11',\n",
    "            'xtick.labelsize':'11',\n",
    "            'ytick.labelsize':'11',\n",
    "            \"font.weight\":'bold'}\n",
    "plt.rcParams.update(params)"
   ]
  },
  {
   "cell_type": "markdown",
   "metadata": {},
   "source": [
    "The first step is to give the buoy name in the variable $Bnum$. The options are $[02,03,09,13,14,16]$ given as string inputs. Following this, we need the folder where the data is stored. "
   ]
  },
  {
   "cell_type": "code",
   "execution_count": 4,
   "metadata": {},
   "outputs": [],
   "source": [
    "Bnum='16'\n",
    "bname='BUOY_'+Bnum\n",
    "s=settings.settings()\n",
    "forcevec=s['forcevec'];h=s['h'];trate=s['trate']\n",
    "(forcenam,folname)=gf.forcedetail(forcevec,trate,h)\n",
    "loc='../../generated_data/'+bname+'/'+folname+'/'"
   ]
  },
  {
   "cell_type": "markdown",
   "metadata": {},
   "source": [
    "Now we run a function from the module $readsimdata$ to obtain a dictionary of all the simulated and observed data useful for plotting."
   ]
  },
  {
   "cell_type": "code",
   "execution_count": 41,
   "metadata": {
    "scrolled": true
   },
   "outputs": [],
   "source": [
    "importlib.reload(readsimdata)\n",
    "SD=readsimdata.readsimdata(Bnum)"
   ]
  },
  {
   "cell_type": "code",
   "execution_count": 7,
   "metadata": {},
   "outputs": [],
   "source": [
    "#Transformation of a time vector to remove the year component from it. As we know all the buoys were in 2014.\n",
    "Ti=SD['T']\n",
    "T=[]\n",
    "for i in range(len(Ti)):\n",
    "    elem=(Ti[i][0:4]+Ti[i][9:15]).replace('-','/')\n",
    "    T=np.append(T,elem)"
   ]
  },
  {
   "cell_type": "markdown",
   "metadata": {},
   "source": [
    "Now we have a dictionary containing all the datasets we need. Let's get into plotting. The first easy one we would like to do is plot for simulated velocities. "
   ]
  },
  {
   "cell_type": "code",
   "execution_count": 37,
   "metadata": {},
   "outputs": [],
   "source": [
    "importlib.reload(plots)\n",
    "#Uis is sim and Uib is observed buoy\n",
    "Uis=SD['Uis'];Vis=SD['Vis']\n",
    "Uisvec=np.column_stack((Uis,Vis))\n",
    "Uib=SD['Uib'];Vib=SD['Vib']\n",
    "Uibvec=np.column_stack((Uib,Vib))\n",
    "plots.plticevel(Uisvec,Uibvec,T,loc)"
   ]
  },
  {
   "cell_type": "markdown",
   "metadata": {},
   "source": [
    "Next we try and plot the fourier transforms of longitude and latitude time series and the velocity time series."
   ]
  },
  {
   "cell_type": "code",
   "execution_count": 42,
   "metadata": {},
   "outputs": [],
   "source": [
    "importlib.reload(plots)\n",
    "#time in hours for FT\n",
    "Tft=SD['Tft']\n",
    "argtide=SD['tidearg'];argcor=SD['corarg']\n",
    "argval=np.append(Tft[argtide],Tft[argcor])\n",
    "# X and Y amplitudes (lon and lat)\n",
    "units='deg'\n",
    "Lonsft=np.row_stack((SD['Xsam'],SD['Xsph']))\n",
    "Lonbft=np.row_stack((SD['Xbam'],SD['Xbph']))\n",
    "# plot for longitude.\n",
    "plots.pltFT(loc,'LongitudeFT',Lonsft,Lonbft,units,Tft,argval)\n",
    "# latitude\n",
    "Latsft=np.row_stack((SD['Ysam'],SD['Ysph']))\n",
    "Latbft=np.row_stack((SD['Ybam'],SD['Ybph']))\n",
    "# plot for longitude.\n",
    "plots.pltFT(loc,'LatitudeFT',Lonsft,Lonbft,units,Tft,argval)\n",
    "# U velocity\n",
    "units='m/s'\n",
    "Usft=np.row_stack((SD['Usam'],SD['Usph']))\n",
    "Vbft=np.row_stack((SD['Ubam'],SD['Ubph']))\n",
    "# plot for u velocity\n",
    "plots.pltFT(loc,'U-FT',Lonsft,Lonbft,units,Tft,argval)"
   ]
  }
 ],
 "metadata": {
  "kernelspec": {
   "display_name": "Python 3",
   "language": "python",
   "name": "python3"
  }
 },
 "nbformat": 4,
 "nbformat_minor": 4
}
