{
 "cells": [
  {
   "cell_type": "markdown",
   "metadata": {},
   "source": [
    "This notebook reads through the data for all the buoys and plots the relevant figures. As done for a single buoy, we will first import some requisite modules. "
   ]
  },
  {
   "cell_type": "code",
   "execution_count": 15,
   "metadata": {},
   "outputs": [],
   "source": [
    "import importlib\n",
    "import numpy as np\n",
    "import pandas as pd\n",
    "import matplotlib.pyplot as plt\n",
    "import plots\n",
    "import readsimdata\n",
    "import settings\n",
    "import generalfunc as gf \n",
    "import os"
   ]
  },
  {
   "cell_type": "code",
   "execution_count": 16,
   "metadata": {},
   "outputs": [],
   "source": [
    "#plotting parameters.\n",
    "params = { \"pgf.texsystem\": \"pdflatex\",\n",
    "           \"pgf.preamble\": [ r\"\\usepackage[utf8x]{inputenc}\",\n",
    "                             r\"\\usepackage[T1]{fontenc}\",\n",
    "                             r\"\\usepackage{cmbright}\"],\n",
    "            'legend.fontsize': '10',\n",
    "            'axes.labelsize': '11',\n",
    "            'axes.titlesize':'11',\n",
    "            'xtick.labelsize':'11',\n",
    "            'ytick.labelsize':'11',\n",
    "            \"font.weight\":'bold'}\n",
    "plt.rcParams.update(params)"
   ]
  },
  {
   "cell_type": "markdown",
   "metadata": {},
   "source": [
    "At first we try to plot all the observed buoy tracks on a single plot. For this we need to read the data from all the buoys stored in the folder named $container.$"
   ]
  },
  {
   "cell_type": "code",
   "execution_count": 17,
   "metadata": {},
   "outputs": [],
   "source": [
    "importlib.reload(readsimdata)\n",
    "folder='../../container/Buoy_data_excel/procesd_buoy_loc_data_Lars'\n",
    "BD=readsimdata.readallbuoy(folder)"
   ]
  },
  {
   "cell_type": "code",
   "execution_count": 18,
   "metadata": {},
   "outputs": [
    {
     "name": "stdout",
     "output_type": "stream",
     "text": [
      "Allbuoys directory already exists.\n"
     ]
    }
   ],
   "source": [
    "importlib.reload(plots)\n",
    "locname='Allbuoys'\n",
    "loc='../../generated_data/'+locname\n",
    "gf.mkdir_p(loc)\n",
    "# plots.pltallbuoytracks(loc,BD)"
   ]
  },
  {
   "cell_type": "markdown",
   "metadata": {},
   "source": [
    "Now the next plotting is about graphs for all the buoys and different forcings. Here we plot the amplitude and phase of the residual velocity vectors at the different tidal frequencies for all the buoys with different forcings."
   ]
  },
  {
   "cell_type": "code",
   "execution_count": 20,
   "metadata": {},
   "outputs": [],
   "source": [
    "def computedict(folder,barray,typ,tidindex):\n",
    "    #loc means generated data folder.\n",
    "    tidval={} #tid is the type of tide like M2    \n",
    "    for b in barray:\n",
    "        SD=readsimdata.readsimdata(b,folder)\n",
    "        if typ=='buoy':\n",
    "            AmvecU=SD['BAmpU'];PhvecU=SD['BPhU']\n",
    "            AmvecV=SD['BAmpV'];PhvecV=SD['BPhV']\n",
    "            tidvalft=np.array([AmvecU[tidindex],PhvecU[tidindex],AmvecV[tidindex],PhvecV[tidindex]])\n",
    "        elif typ=='sim':\n",
    "            AmvecU=SD['SAmpU'];PhvecU=SD['SPhU']\n",
    "            AmvecV=SD['SAmpV'];PhvecV=SD['SPhV']\n",
    "            tidvalft=np.array([AmvecU[tidindex],PhvecU[tidindex],AmvecV[tidindex],PhvecV[tidindex]])\n",
    "        tidval.update({b:tidvalft})\n",
    "    return(tidval)"
   ]
  },
  {
   "cell_type": "code",
   "execution_count": null,
   "metadata": {},
   "outputs": [],
   "source": [
    "basefol='h1f1A1T1O1Po1Pt1Bf0'\n",
    "barray=['02','03','09','13','14','16'] \n",
    "tide='M2';tidindex=2\n",
    "btidval=computedict(basefol,barray,'buoy',tidindex)\n",
    "stidval=computedict(basefol,barray,'sim',tidindex)\n",
    "# typ=['no_coriolis','no_air','no_tidal','no_ocean','no_pgocean','no_pgtidal']\n",
    "typ=['cor+pgs+bf+air']\n",
    "on='1';off='0'\n",
    "# bname='BUOY_'+b\n",
    "for t in range(len(typ)):\n",
    "    ofv=[on,on,on,on,on,on,on]\n",
    "    if typ[t]=='cor+pgs':\n",
    "        ofv[1]=ofv[2]=ofv[3]=ofv[4]=ofv[6]=off\n",
    "    elif typ[t]=='cor+pgs+bf':\n",
    "        ofv[1]=ofv[2]=ofv[3]=ofv[4]=off\n",
    "    elif typ[t]=='cor+pgs+bf+air':\n",
    "        ofv[2]=ofv[3]=ofv[4]=off\n",
    "    else:\n",
    "        ofv[t]=off;ofv[6]=off\n",
    "    compfol='h1'+'f'+ofv[0]+'A'+ofv[1]+'T'+ofv[2]+'O'+ofv[3]+'Po'+ofv[4]+'Pt'+ofv[5]+'Bf'+ofv[6]\n",
    "    ftidval=computedict(compfol,barray,'sim',tidindex)\n",
    "    ftyp=typ[t]\n",
    "    gf.mkdir_p(loc+'/'+ftyp)    \n",
    "    plottidal(tide,ftyp,loc,barray,btidval,stidval,ftidval)"
   ]
  },
  {
   "cell_type": "code",
   "execution_count": 21,
   "metadata": {},
   "outputs": [],
   "source": [
    "def plottidal(tide,ftyp,loc,barray,btidval,stidval,ftidval):\n",
    "    btidvec=np.array(list(btidval.values()))\n",
    "    stidvec=np.array(list(stidval.values()))\n",
    "    ftidvec=np.array(list(ftidval.values()))\n",
    "    namevec=['U_Amplitude (m/s)','U_Phase (deg)','V_Amplitude (m/s)','V_Phase (deg)']\n",
    "    for n in range(len(namevec)):\n",
    "        name=namevec[n]\n",
    "        fig=plt.figure(figsize=(12,7),frameon=True)      \n",
    "        plt.plot(barray,btidvec[:,n], marker='o', linestyle='dashed',\n",
    "                 linewidth=2, markersize=12,label='observed')\n",
    "        plt.plot(barray,stidvec[:,n], marker='o', linestyle='dashed',\n",
    "                 linewidth=2, markersize=12,label='model')\n",
    "        plt.plot(barray,ftidvec[:,n], marker='o', linestyle='dashed',\n",
    "                 linewidth=2, markersize=12,label=ftyp)\n",
    "        plt.xlabel('Buoys',fontsize=16,fontweight='bold')\n",
    "        plt.ylabel(name,fontsize=16,fontweight='bold')\n",
    "        print(name)\n",
    "        print(btidvec[:,n],stidvec[:,n],ftidvec[:,n])\n",
    "        plt.legend(loc=1)\n",
    "#         plt.title(title,fontsize=18,fontweight='bold')\n",
    "        plt.savefig(loc+'/'+ftyp+'/'+tide+name[0:4]+'.jpg',format='jpg')\n",
    "        plt.close(fig)\n"
   ]
  },
  {
   "cell_type": "code",
   "execution_count": null,
   "metadata": {},
   "outputs": [],
   "source": []
  }
 ],
 "metadata": {
  "kernelspec": {
   "display_name": "Python 3",
   "language": "python",
   "name": "python3"
  },
  "language_info": {
   "codemirror_mode": {
    "name": "ipython",
    "version": 3
   },
   "file_extension": ".py",
   "mimetype": "text/x-python",
   "name": "python",
   "nbconvert_exporter": "python",
   "pygments_lexer": "ipython3",
   "version": "3.7.5"
  }
 },
 "nbformat": 4,
 "nbformat_minor": 2
}
