{
 "cells": [
  {
   "cell_type": "markdown",
   "metadata": {},
   "source": [
    "This notebook is for plotting of the simulated and observed buoy data. One can run the individual cell blocks to plot and save the files in the respective folders of model runs. \n",
    "\n",
    "Let us start with loading the plotting and data reading modules. "
   ]
  },
  {
   "cell_type": "code",
   "execution_count": 1,
   "metadata": {},
   "outputs": [],
   "source": [
    "import importlib\n",
    "import numpy as np\n",
    "import scipy.stats\n",
    "import pandas as pd\n",
    "import matplotlib.pyplot as plt\n",
    "import plots\n",
    "import readsimdata\n",
    "import settings\n",
    "import generalfunc as gf"
   ]
  },
  {
   "cell_type": "code",
   "execution_count": 2,
   "metadata": {},
   "outputs": [],
   "source": [
    "#plotting parameters.\n",
    "params = { \"pgf.texsystem\": \"pdflatex\",\n",
    "           \"pgf.preamble\": [ r\"\\usepackage[utf8x]{inputenc}\",\n",
    "                             r\"\\usepackage[T1]{fontenc}\",\n",
    "                             r\"\\usepackage{cmbright}\"],\n",
    "            'legend.fontsize': '10',\n",
    "            'axes.labelsize': '11',\n",
    "            'axes.titlesize':'11',\n",
    "            'xtick.labelsize':'11',\n",
    "            'ytick.labelsize':'11',\n",
    "            \"font.weight\":'bold'}\n",
    "plt.rcParams.update(params)"
   ]
  },
  {
   "cell_type": "markdown",
   "metadata": {},
   "source": [
    "The first step is to give the buoy name in the variable $Bnum$. The options are $[02,03,09,13,14,16]$ given as string inputs. Following this, we need the folder where the data is stored. Then, we run a function from the module $readsimdata$ to obtain a dictionary of all the simulated and observed data useful for plotting."
   ]
  },
  {
   "cell_type": "code",
   "execution_count": 3,
   "metadata": {
    "scrolled": true
   },
   "outputs": [
    {
     "name": "stdout",
     "output_type": "stream",
     "text": [
      "h1f1A1T1O1Po1Pt1Bf0\n"
     ]
    }
   ],
   "source": [
    "def readdata(Bnum):\n",
    "    importlib.reload(settings)\n",
    "    bname='BUOY_'+Bnum\n",
    "    s=settings.settings()\n",
    "    forcevec=settings.forcevec;h=settings.h;trate=s['trate']\n",
    "    (forcenam,folname)=gf.forcedetail(forcevec,trate,h)\n",
    "    print(folname)\n",
    "    loc='../../generated_data/'+bname+'/'+folname+'/'\n",
    "    importlib.reload(readsimdata)\n",
    "    SD=readsimdata.readsimdata(Bnum,folname)\n",
    "    return(s,SD,loc)\n",
    "Bnum='16'\n",
    "[s,SD,loc]=readdata(Bnum)\n",
    "#or get another folder name from the buoy folder."
   ]
  },
  {
   "cell_type": "markdown",
   "metadata": {},
   "source": [
    "Now we have a dictionary containing all the datasets we need. Let's get into plotting. The first easy one we would like to do is plot for simulated velocities. "
   ]
  },
  {
   "cell_type": "code",
   "execution_count": 4,
   "metadata": {},
   "outputs": [
    {
     "name": "stdout",
     "output_type": "stream",
     "text": [
      "General Velocity plots done.\n"
     ]
    }
   ],
   "source": [
    "def genvelplots(SD,loc):\n",
    "    #Transformation of a time vector to remove the year component from it. As we know all the buoys were in 2014.\n",
    "    Ti=SD['T']\n",
    "    T=[]\n",
    "    for i in range(len(Ti)):\n",
    "        elem=(Ti[i][0:4]+Ti[i][9:15]).replace('-','/')\n",
    "        T=np.append(T,elem)\n",
    "    importlib.reload(plots)\n",
    "    #Uis is sim and Uib is observed buoy\n",
    "    Uis=SD['Uis'];Vis=SD['Vis']\n",
    "    Uisvec=np.column_stack((Uis,Vis))\n",
    "    Uib=SD['Uib'];Vib=SD['Vib']\n",
    "    Uibvec=np.column_stack((Uib,Vib))\n",
    "    plots.plticevel(Uisvec,Uibvec,T,loc)\n",
    "    print(\"General Velocity plots done.\")\n",
    "    return(Uib,Vib,Uisvec,T)\n",
    "[Uib,Vib,Uisvec,T]=genvelplots(SD,loc)"
   ]
  },
  {
   "cell_type": "markdown",
   "metadata": {},
   "source": [
    "Next we try and plot the fourier transforms of longitude and latitude time series and the velocity time series."
   ]
  },
  {
   "cell_type": "code",
   "execution_count": 5,
   "metadata": {},
   "outputs": [
    {
     "name": "stdout",
     "output_type": "stream",
     "text": [
      "Fourier Transform plots done.\n"
     ]
    }
   ],
   "source": [
    "def FTplots(SD,loc,Bnum):\n",
    "    importlib.reload(plots)\n",
    "    #time in hours for FT\n",
    "    Tft=SD['Tft']\n",
    "    argtide=SD['tidearg'];argcor=SD['corarg']\n",
    "    argval=np.append(Tft[argtide],Tft[argcor])\n",
    "    # X and Y amplitudes (lon and lat)\n",
    "    units='deg'\n",
    "    Lonsft=np.row_stack((SD['Xsam'],SD['Xsph']))\n",
    "    Lonbft=np.row_stack((SD['Xbam'],SD['Xbph']))\n",
    "    # plot for longitude.\n",
    "    plots.pltFT(loc,Bnum+'LongitudeFT',Lonsft,Lonbft,units,Tft,argval)\n",
    "    # latitude\n",
    "    Latsft=np.row_stack((SD['Ysam'],SD['Ysph']))\n",
    "    Latbft=np.row_stack((SD['Ybam'],SD['Ybph']))\n",
    "    # plot for longitude.\n",
    "    plots.pltFT(loc,Bnum+'LatitudeFT',Latsft,Latbft,units,Tft,argval)\n",
    "    #Velocity\n",
    "    units='m/s'\n",
    "    Usft=np.row_stack((SD['Usam'],SD['Usph']))\n",
    "    Ubft=np.row_stack((SD['Ubam'],SD['Ubph']))\n",
    "    # plot for u velocity\n",
    "    plots.pltFT(loc,Bnum+'U-FT',Usft,Ubft,units,Tft,argval)\n",
    "    Vsft=np.row_stack((SD['Vsam'],SD['Vsph']))\n",
    "    Vbft=np.row_stack((SD['Vbam'],SD['Vbph']))\n",
    "    # plot for u velocity\n",
    "    plots.pltFT(loc,Bnum+'V-FT',Vsft,Vbft,units,Tft,argval)\n",
    "    print(\"Fourier Transform plots done.\")\n",
    "FTplots(SD,loc,Bnum)"
   ]
  },
  {
   "cell_type": "markdown",
   "metadata": {},
   "source": [
    "Plotting the amplitude and phases from the fourier transforms gives a nice idea of which are the dominant frequencies of the sea ice motion. And as expected, it is indeed the M2 tidal frequencies. Next we try and see the velocity plots of the residuals of the sea ice observed and simulated motion. By resdiuals we mean that the plots of velocity vectors where the mean drift is subtracted from it."
   ]
  },
  {
   "cell_type": "code",
   "execution_count": 6,
   "metadata": {},
   "outputs": [
    {
     "name": "stdout",
     "output_type": "stream",
     "text": [
      "(0.9056624535028008, 0.0) (0.9207902528448507, 0.0)\n",
      "(0.8604707964393101, 0.0) (0.8327000294320513, 0.0)\n",
      "(0.9837635188416092, 0.0) (0.9634743305788811, 0.0)\n",
      "Velocity Vector plots done.\n",
      "31/3 12:15\t0.11848656504054433\t0.12122432847560838\t0.14021817088840743\t0.1789449577947031\t0.1006726672063137\t0.156413896972667\n",
      "\n"
     ]
    }
   ],
   "source": [
    "def vec2txt(fname,loc,Us,Vs,Ub,Vb,Ug,Vg,T):\n",
    "    f= open(loc+fname,\"w+\")\n",
    "    i=0\n",
    "    line='Time'+'\\t'+'Us'+'\\t'+'Vs'+'\\t'+'Ub'+'\\t'+'Vb'+'\\t'+'Ug'+'\\t'+'Vg'+'\\n'\n",
    "    f.write(line)\n",
    "    for r in range(len(Us)):\n",
    "        line=(T[i])+'\\t'+str(Us[i])+'\\t'+str(Vs[i])+'\\t'+str(Ub[i])+'\\t'+str(Vb[i])+'\\t'+str(Ug[i])+'\\t'+str(Vg[i])+'\\n'\n",
    "        f.write(line)\n",
    "        if i==1:\n",
    "            print(line)\n",
    "        i+=1\n",
    "    f.close()\n",
    "def compnplotvelvect(SD,Bnum,loc,T):\n",
    "    bname='BUOY_'+Bnum\n",
    "    # tidal velocity plots.\n",
    "    # time res vector based on numtaps\n",
    "    numtaps=2*24*2+1\n",
    "    fedge=int(numtaps/2)\n",
    "    Tres=T[fedge:-fedge]\n",
    "    Usres=SD['Usres'];Vsres=SD['Vsres']\n",
    "    Ubres=SD['Ubres'];Vbres=SD['Vbres']\n",
    "    importlib.reload(plots)\n",
    "    midindex=288*7  #this is index for splitting the quiver plot. It varies per buoy.\n",
    "    ylim=0.9 #this is the y axis limit in the graph.\n",
    "    labelname=['imodel','obs']\n",
    "    name='icemodel-obs'\n",
    "    Coru=scipy.stats.pearsonr(Ubres,Usres)\n",
    "    Corv=scipy.stats.pearsonr(Vbres,Vsres)\n",
    "    print(Coru,Corv)\n",
    "    plots.pltvelquiver(loc,name,Tres,midindex,ylim,Usres,Vsres,Ubres,Vbres,Coru,Corv,labelname)\n",
    "    # reading tidal data of GTSM from the main buoy file.\n",
    "    obsfil='../../generated_data/'+bname+'/Pos_Vel_data.xlsx'\n",
    "    obsdf=pd.read_excel(obsfil)\n",
    "    Ut=np.array(obsdf['Ut']);Vt=np.array(obsdf['Vt'])\n",
    "    Uts=Ut[fedge:-fedge];Vts=Vt[fedge:-fedge]\n",
    "    name='GTSM currents-obs'\n",
    "    labelname=['gtsm','obs']\n",
    "    Coru=scipy.stats.pearsonr(Ubres,Uts)\n",
    "    Corv=scipy.stats.pearsonr(Vbres,Vts)\n",
    "    print(Coru,Corv)\n",
    "    \n",
    "    plots.pltvelquiver(loc,name,Tres,midindex,ylim,Uts,Vts,Ubres,Vbres,Coru,Corv,labelname)\n",
    "    name='GTSM currents-ice model'\n",
    "    labelname=['gtsm','imodel']\n",
    "    Coru=scipy.stats.pearsonr(Usres,Uts)\n",
    "    Corv=scipy.stats.pearsonr(Vsres,Vts)\n",
    "    print(Coru,Corv)\n",
    "    plots.pltvelquiver(loc,name,Tres,midindex,ylim,Uts,Vts,Usres,Vsres,Coru,Corv,labelname)\n",
    "    print(\"Velocity Vector plots done.\")\n",
    "    #saving text file.\n",
    "    filname=bname+'veldata.txt'\n",
    "    vec2txt(filname,loc,Usres,Vsres,Ubres,Vbres,Uts,Vts,Tres)\n",
    "    return(Usres,Vsres,Uts,Vts,Ubres,Vbres)\n",
    "(Usres,Vsres,Uts,Vts,Ubres,Vbres)=compnplotvelvect(SD,Bnum,loc,T)"
   ]
  },
  {
   "cell_type": "code",
   "execution_count": 7,
   "metadata": {
    "scrolled": true
   },
   "outputs": [
    {
     "data": {
      "text/plain": [
       "Text(0, 0.5, 'Vs')"
      ]
     },
     "execution_count": 7,
     "metadata": {},
     "output_type": "execute_result"
    },
    {
     "data": {
      "image/png": "[encoded data removed]",
      "text/plain": [
       "<Figure size 864x360 with 2 Axes>"
      ]
     },
     "metadata": {
      "needs_background": "light"
     },
     "output_type": "display_data"
    }
   ],
   "source": [
    "#scatter plot velocities.\n",
    "fig=plt.figure(figsize=(12,5))\n",
    "ax1=plt.subplot(1,2,1)\n",
    "ax1.scatter(Ubres,Uts)\n",
    "ax1.set_xlabel('Ub')\n",
    "ax1.set_ylabel('Us')\n",
    "ax2=plt.subplot(1,2,2)\n",
    "ax2.scatter(Vbres,Vts)\n",
    "ax2.set_xlabel('Vb')\n",
    "ax2.set_ylabel('Vs')"
   ]
  },
  {
   "cell_type": "markdown",
   "metadata": {},
   "source": [
    "The next set of blocks does the energy budget calculation."
   ]
  },
  {
   "cell_type": "code",
   "execution_count": 8,
   "metadata": {},
   "outputs": [],
   "source": [
    "def readmaindata(s,Bnum):\n",
    "    bname='BUOY_'+Bnum\n",
    "    Cwi=s['iCw'];Cai=s['iCa'];Cbi=s['iCb']\n",
    "    g=s['g'];thetaa=s['thetaa']\n",
    "    thetaw=s['thetaw'];rho_water=s['rho_water'];beta=s['beta']\n",
    "    rho_air=s['rho_air']; rho_ice=s['rho_ice']\n",
    "    locposfile='../../generated_data/'+bname\n",
    "    D=pd.read_excel(locposfile+'/Pos_Vel_data.xlsx')\n",
    "    return(bname,Cwi,Cai,Cbi,g,beta,rho_air,rho_ice,rho_water,D)\n",
    "(bname,Cwi,Cai,Cbi,g,beta,rho_air,rho_ice,rho_water,D)=readmaindata(s,Bnum)"
   ]
  },
  {
   "cell_type": "code",
   "execution_count": 9,
   "metadata": {},
   "outputs": [],
   "source": [
    "def readveldata(D,Uib,Vib,beta):\n",
    "    numtaps=2*24*2+1\n",
    "    fedge=int(numtaps/2)\n",
    "    Ut=np.array(D['Ut']); Vt=np.array(D['Vt'])\n",
    "    Ua=np.array(D['Ua']);Va=np.array(D['Va'])\n",
    "    Uo=np.array(D['Uo']);Vo=np.array(D['Vo'])\n",
    "    #filtered solutions for computing energy loss to tides.\n",
    "    uit=Ubres;vit=Vbres\n",
    "    #bathymetry\n",
    "    Hvec=np.array(D['WDt'])\n",
    "    Hvec=Hvec[fedge:-fedge]\n",
    "    #transformation for rotation of Uw\n",
    "    Ut=(Ut)*np.cos(beta)-(Vt)*np.sin(beta)\n",
    "    Vt=(Ut)*np.sin(beta)+(Vt)*np.cos(beta)   \n",
    "    Uw=Ut+Uo; Vw=Vt+Vo\n",
    "    #sea ice velocities\n",
    "    u=Uib;v=Vib\n",
    "    #computation of modulus\n",
    "    Ua_mag=np.sqrt((Ua-u)**2+(Va-v)**2)\n",
    "    Uw_mag=np.sqrt((Uw-u)**2+(Vw-v)**2)\n",
    "    return(u,v,Ut,Vt,Ua,Va,Uo,Vo,Uw,Vw,Vt,Hvec,uit,vit,Ua_mag,Uw_mag)\n",
    "(u,v,Ut,Vt,Ua,Va,Uo,Vo,Uw,Vw,Vt,Hvec,uit,vit,Ua_mag,Uw_mag)=readveldata(D,Uib,Vib,beta)"
   ]
  },
  {
   "cell_type": "code",
   "execution_count": 10,
   "metadata": {},
   "outputs": [
    {
     "name": "stdout",
     "output_type": "stream",
     "text": [
      "51824.50761675187\n",
      "0.01304123728339569\n",
      "0.033910999893624505\n"
     ]
    }
   ],
   "source": [
    "def windenergy(u,v,Ua,Va):\n",
    "    #energy  for wind stress  taua.ui\n",
    "    #dot product of sea ice vel and air velocity\n",
    "    prod=np.multiply(u,Ua-u)+np.multiply(v,Va-v)\n",
    "    enerwinddt=Cai*rho_air*np.multiply(Ua_mag,prod)\n",
    "    enerwindtraj=np.trapz(enerwinddt,dx=15*60)\n",
    "    meanenerwind=np.mean(enerwinddt)\n",
    "    stdenerwind=np.std(enerwinddt)\n",
    "    print(enerwindtraj)\n",
    "    print(meanenerwind)\n",
    "    print(stdenerwind)\n",
    "    return(enerwindtraj,meanenerwind,stdenerwind)\n",
    "(enerwindtraj,meanenerwind,stdenerwind)=windenergy(u,v,Ua,Va)"
   ]
  },
  {
   "cell_type": "code",
   "execution_count": 11,
   "metadata": {},
   "outputs": [
    {
     "name": "stdout",
     "output_type": "stream",
     "text": [
      "-527954.4086829133\n",
      "-0.13286730895280718\n",
      "0.22368116316210684\n"
     ]
    }
   ],
   "source": [
    "def waterenergy(u,v,Uw,Vw):\n",
    "    #energy loss for water stress  tauw.ui\n",
    "    #dot product of sea ice vel and water velocity\n",
    "    prod=np.multiply(u,Uw-u)+np.multiply(v,Vw-v)\n",
    "    enerwaterdt=Cwi*rho_water*np.multiply(Uw_mag,prod)\n",
    "    enerwatertraj=np.trapz(enerwaterdt,dx=15*60)\n",
    "    meanenerwater=np.mean(enerwaterdt)\n",
    "    stdenerwater=np.std(enerwaterdt)\n",
    "    print(enerwatertraj)\n",
    "    print(meanenerwater)\n",
    "    print(stdenerwater)\n",
    "    return(enerwatertraj,meanenerwater,stdenerwater)\n",
    "(enerwatertraj,meanenerwater,stdenerwater)=waterenergy(u,v,Uw,Vw)"
   ]
  },
  {
   "cell_type": "code",
   "execution_count": 12,
   "metadata": {
    "scrolled": true
   },
   "outputs": [
    {
     "name": "stdout",
     "output_type": "stream",
     "text": [
      "-185047.1450124221\n",
      "-0.04766123102086869\n",
      "0.10624301133726204\n"
     ]
    }
   ],
   "source": [
    "def tideenergy(uit,vit,Uts,Vts):\n",
    "    #energy loss for tidal currents  taut.ui\n",
    "    #dot product of sea ice vel and tidal velocity\n",
    "    Ut_mag=np.sqrt((Uts-uit)**2+(Vts-vit)**2)\n",
    "    prod=np.multiply(Uts-uit,Uts-uit)+np.multiply(Uts-uit,Vts-vit)\n",
    "    enertidedt=-Cwi*rho_water*np.multiply(Ut_mag,prod)\n",
    "    enertidetraj=np.trapz(enertidedt,dx=15*60)\n",
    "    meanenertide=np.mean(enertidedt)\n",
    "    stdenertide=np.std(enertidedt)\n",
    "    print(enertidetraj)\n",
    "    print(meanenertide)\n",
    "    print(stdenertide)\n",
    "    return(enertidetraj,meanenertide,stdenertide)\n",
    "(enertidetraj,meanenertide,stdenertide)=tideenergy(uit,vit,Uts,Vts)"
   ]
  },
  {
   "cell_type": "code",
   "execution_count": 13,
   "metadata": {},
   "outputs": [
    {
     "name": "stdout",
     "output_type": "stream",
     "text": [
      "-337656.18129395775\n",
      "-0.08685553946231307\n",
      "0.10564810478424705\n"
     ]
    }
   ],
   "source": [
    "def bottomenergy(Uts,Vts):\n",
    "    #energy loss of tides to bottom friction.\n",
    "    Ub_mag=np.sqrt((Uts)**2+(Vts)**2)\n",
    "    prod=np.multiply(Uts,Uts)+np.multiply(Vts,Vts)\n",
    "    enerbottomdt=-Cbi*rho_water*np.multiply(Ub_mag,prod)\n",
    "    enerbottomtraj=np.trapz(enerbottomdt,dx=15*60)\n",
    "    meanenerbottom=np.mean(enerbottomdt)\n",
    "    stdenerbottom=np.std(enerbottomdt)\n",
    "    print(enerbottomtraj)\n",
    "    print(meanenerbottom)\n",
    "    print(stdenerbottom)\n",
    "    return(enerbottomtraj,meanenerbottom,stdenerbottom)\n",
    "(enerbottomtraj,meanenerbottom,stdenerbottom)=bottomenergy(Uts,Vts)"
   ]
  },
  {
   "cell_type": "code",
   "execution_count": 14,
   "metadata": {},
   "outputs": [],
   "source": [
    "def ener2excel():\n",
    "    #Saving the energy budget into energy budget excel\n",
    "    Type=np.array(['Wind','Water','Tidal','Bottom'])\n",
    "    traj=np.array([enerwindtraj,enerwatertraj,enertidetraj,enerbottomtraj])\n",
    "    mean=np.array([meanenerwind,meanenerwater,meanenertide,meanenerbottom])\n",
    "    std=np.array([stdenerwind,stdenerwater,stdenertide,stdenerbottom])\n",
    "    writer = pd.ExcelWriter(loc+'/enerbudget_'+bname+'.xlsx',engine='xlsxwriter') \n",
    "    gf.valuewriter(writer,'Type',Type,'Sheet1',0,0)\n",
    "    gf.valuewriter(writer,'Total_Energy(J/m^2)',traj,'Sheet1',1,0)\n",
    "    gf.valuewriter(writer,'Mean_Energy(J/m^2s)',mean,'Sheet1',2,0)\n",
    "    gf.valuewriter(writer,'Std_Energy(J/m^2s)',std,'Sheet1',3,0)\n",
    "    writer.save()\n",
    "ener2excel()"
   ]
  },
  {
   "cell_type": "code",
   "execution_count": 15,
   "metadata": {},
   "outputs": [
    {
     "data": {
      "text/html": [
       "<script> </script> <form action=\"javascript:IPython.notebook.execute_cells_above()\"><input type=\"submit\" id=\"toggleButton\" value=\"Run all\"></form>"
      ],
      "text/plain": [
       "<IPython.core.display.HTML object>"
      ]
     },
     "execution_count": 15,
     "metadata": {},
     "output_type": "execute_result"
    }
   ],
   "source": [
    "from IPython.core.display import display, HTML\n",
    "HTML('''<script> </script> <form action=\"javascript:IPython.notebook.execute_cells_above()\"><input type=\"submit\" id=\"toggleButton\" value=\"Run all\"></form>''')"
   ]
  },
  {
   "cell_type": "code",
   "execution_count": 16,
   "metadata": {},
   "outputs": [
    {
     "name": "stdout",
     "output_type": "stream",
     "text": [
      "h1f1A1T1O1Po1Pt1Bf0\n",
      "General Velocity plots done.\n",
      "Fourier Transform plots done.\n",
      "(0.9056624535028008, 0.0) (0.9207902528448507, 0.0)\n",
      "(0.8604707964393101, 0.0) (0.8327000294320513, 0.0)\n",
      "(0.9837635188416092, 0.0) (0.9634743305788811, 0.0)\n",
      "Velocity Vector plots done.\n",
      "31/3 12:15\t0.11848656504054433\t0.12122432847560838\t0.14021817088840743\t0.1789449577947031\t0.1006726672063137\t0.156413896972667\n",
      "\n",
      "51824.50761675187\n",
      "0.01304123728339569\n",
      "0.033910999893624505\n",
      "-527954.4086829133\n",
      "-0.13286730895280718\n",
      "0.22368116316210684\n",
      "-5649.690190851141\n",
      "-0.001453963078857278\n",
      "0.0036388747012764794\n",
      "-337656.18129395775\n",
      "-0.08685553946231307\n",
      "0.10564810478424705\n"
     ]
    }
   ],
   "source": [
    "#iteration over the functions to plot. \n",
    "barray=['02','03','09','13','14','16'] \n",
    "barray=['16'] \n",
    "for b in barray:\n",
    "    Bnum=b\n",
    "    [s,SD,loc]=readdata(Bnum)\n",
    "    [Uib,Vib,Uisvec,T]=genvelplots(SD,loc)\n",
    "    FTplots(SD,loc,Bnum)\n",
    "    (Usres,Vsres,Uts,Vts,Ubres,Vbres)=compnplotvelvect(SD,Bnum,loc,T)\n",
    "    (bname,Cwi,Cai,Cbi,g,beta,rho_air,rho_ice,rho_water,D)=readmaindata(s,Bnum)\n",
    "    (u,v,Ut,Vt,Ua,Va,Uo,Vo,Uw,Vw,Vt,Hvec,uit,vit,Ua_mag,Uw_mag)=readveldata(D,Uib,Vib,beta)\n",
    "    (enerwindtraj,meanenerwind,stdenerwind)=windenergy(u,v,Ua,Va)\n",
    "    (enerwatertraj,meanenerwater,stdenerwater)=waterenergy(u,v,Uw,Vw)\n",
    "    (enertidetraj,meanenertide,stdenertide)=tideenergy(Usres,Vsres,Uts,Vts)\n",
    "    (enerbottomtraj,meanenerbottom,stdenerbottom)=bottomenergy(Uts,Vts)\n",
    "    ener2excel()"
   ]
  },
  {
   "cell_type": "code",
   "execution_count": 19,
   "metadata": {},
   "outputs": [],
   "source": [
    "def ampphM2(vec):\n",
    "    Nft=len(vec);dt=15*60.0 #time difference in observations\n",
    "    [am,ph,fvec,tvec]=gf.FFTsig(vec,Nft,dt)\n",
    "    tvec=tvec/3600\n",
    "    M2=12.42\n",
    "    arg=(np.abs(tvec-M2)).argmin()\n",
    "    M2amp=am[arg];M2ph=ph[arg]\n",
    "    return(M2amp,M2ph)\n",
    "#wind energy loss computation.\n",
    "def enervects(u,v,Ut,Vt,Ua,Va):\n",
    "    M2tim=12.42*3600\n",
    "    #energy  for wind stress  taua.ui\n",
    "    #dot product of sea ice vel and air velocity # Ua-u is total, Ua only is approx.\n",
    "    Ua_mag=np.sqrt((Ua)**2+(Va)**2)\n",
    "    prod=np.multiply(u,Ua)+np.multiply(v,Va)\n",
    "    enertaua=Cai*rho_air*np.multiply(Ua_mag,prod)    \n",
    "    enertauatraj=np.trapz(enertaua,dx=15*60)\n",
    "    enertauamean=enertauatraj/M2tim\n",
    "    #energy loss of tides to bottom friction.\n",
    "    Ub_mag=np.sqrt((Ut)**2+(Vt)**2)\n",
    "    prod=np.multiply(Ut,Ut)+np.multiply(Vt,Vt)\n",
    "    enertaubvec=-Cbi*rho_water*np.multiply(Ub_mag,prod)\n",
    "    enertaubtraj=np.trapz(enertaubvec,dx=15*60)\n",
    "    enertaubmean=enertaubtraj/M2tim\n",
    "    return(enertaua,enertaubvec,enertauamean,enertaubmean)\n",
    "\n",
    "def enervectslinear(u,v,Ut,Vt,Ua,Va):\n",
    "    M2tim=12.42*3600\n",
    "    # linear stress loss google colab formula\n",
    "    #vector of stress.\n",
    "    Ua_mag=np.sqrt((Ua)**2+(Va)**2)\n",
    "#     prod=np.multiply(u,1)+np.multiply(v,1)   \n",
    "    term1x=-Cai*rho_air*np.multiply(Ua_mag,u)\n",
    "    term1y=-Cai*rho_air*np.multiply(Ua_mag,v)\n",
    "    commonbrac=np.multiply(Ua,v)-np.multiply(Va,u)\n",
    "#     dotproduct=np.multiply(-Va,1)+np.multiply(Ua,1)\n",
    "    term2x=Cai*rho_air*np.multiply(1/Ua_mag,np.multiply(-Va,commonbrac))\n",
    "    term2y=Cai*rho_air*np.multiply(1/Ua_mag,np.multiply(Ua,commonbrac))\n",
    "    tauavecx=2*term1x+term2x\n",
    "    tauavecy=2*term1y+term2y\n",
    "    (M2amptauax,M2phtauax)=ampphM2(tauavecx)\n",
    "    (M2amptauay,M2phtauay)=ampphM2(tauavecx)\n",
    "    enertauaM2=np.multiply(M2amptauax,u)+np.multiply(M2amptauay,v)\n",
    "    enertaua=np.multiply(tauavecx,u)+np.multiply(tauavecy,v)\n",
    "    enertauatraj=np.trapz(enertaua,dx=15*60)\n",
    "    enertauamean=enertauatraj/M2tim\n",
    "    enertauaM2traj=np.trapz(enertauaM2,dx=15*60)\n",
    "    enertauaM2mean=enertauaM2traj/M2tim\n",
    "    #energy loss of tides to bottom friction.\n",
    "    Ub_mag=np.sqrt((Ut)**2+(Vt)**2)\n",
    "    prod=np.multiply(Ut,Ut)+np.multiply(Vt,Vt)\n",
    "    enertaubvec=-Cbi*rho_water*np.multiply(Ub_mag,prod)\n",
    "    enertaubtraj=np.trapz(enertaubvec,dx=15*60)\n",
    "    enertaubmean=enertaubtraj/M2tim\n",
    "    return(enertaua,enertaubvec,enertauamean,enertauaM2mean,enertaubmean)\n",
    "    \n",
    "# (enerwindtraj,meanenerwind,stdenerwind)=constwindenergy(u,v,Ua,Va)\\"
   ]
  },
  {
   "cell_type": "code",
   "execution_count": 20,
   "metadata": {},
   "outputs": [
    {
     "name": "stdout",
     "output_type": "stream",
     "text": [
      "Running for buoy:02\n",
      "h1f1A1T1O1Po1Pt1Bf0\n",
      "General Velocity plots done.\n",
      "(1520,)\n",
      "(1520,)\n",
      "Running for buoy:03\n",
      "h1f1A1T1O1Po1Pt1Bf0\n",
      "General Velocity plots done.\n",
      "(4320,)\n",
      "(4320,)\n",
      "Running for buoy:09\n",
      "h1f1A1T1O1Po1Pt1Bf0\n",
      "General Velocity plots done.\n",
      "(1528,)\n",
      "(1528,)\n",
      "Running for buoy:13\n",
      "h1f1A1T1O1Po1Pt1Bf0\n",
      "General Velocity plots done.\n",
      "(892,)\n",
      "(892,)\n",
      "Running for buoy:14\n",
      "h1f1A1T1O1Po1Pt1Bf0\n",
      "General Velocity plots done.\n",
      "(504,)\n",
      "(504,)\n",
      "Running for buoy:16\n",
      "h1f1A1T1O1Po1Pt1Bf0\n",
      "General Velocity plots done.\n",
      "(4320,)\n",
      "(4320,)\n"
     ]
    }
   ],
   "source": [
    "# comparison of energy loss to wind for sea ice and bottom friction. \n",
    "# obtaining datasets.\n",
    "barray=['02','03','09','13','14','16'] \n",
    "enerval={}\n",
    "for b in barray:\n",
    "    valam=[];valph=[];valmean=[]\n",
    "    print(\"Running for buoy:\"+b)\n",
    "    airvec=[1,2,5,10,20,40]\n",
    "    Bnum=b\n",
    "    [s,SD,loc]=readdata(Bnum)\n",
    "    [Uib,Vib,Uisvec,T]=genvelplots(SD,loc)\n",
    "    # (Usres,Vsres,Uts,Vts,Ubres,Vbres)=compnplotvelvect(SD,Bnum,loc,T)\n",
    "    (bname,Cwi,Cai,Cbi,g,beta,rho_air,rho_ice,rho_water,D)=readmaindata(s,Bnum)\n",
    "    Usres=SD['Usres'];Vsres=SD['Vsres']\n",
    "    Ubres=SD['Ubres'];Vbres=SD['Vbres']      \n",
    "    (u,v,Ut,Vt,Ua,Va,Uo,Vo,Uw,Vw,Vt,Hvec,uit,vit,Ua_mag,Uw_mag)=readveldata(D,Uib,Vib,beta)\n",
    "    Ua=1;Va=1\n",
    "    numtaps=2*24*2+1\n",
    "    fedge=int(numtaps/2)\n",
    "    Ut=Ut[fedge:-fedge];Vt=Vt[fedge:-fedge]\n",
    "#     Ua=Ua[fedge:-fedge];Va=Va[fedge:-fedge]\n",
    "#     (enertauavec,enertaubvec,enertauamean,enertaubmean)=enervects(uit,vit,Ut,Vt,Ua,Va)\n",
    "    (enertaua,enertaubvec,enertauamean,enertauaM2mean,enertaubmean)=enervectslinear(u,v,Ut,Vt,Ua,Va)\n",
    "    print(np.shape(uit))\n",
    "    print(np.shape(Ut))\n",
    "    (M2amptaub,M2phtaub)=ampphM2(enertaubvec)\n",
    "    valam=np.append(valam,M2amptaub)\n",
    "    valph=np.append(valph,M2phtaub)\n",
    "    valmean=np.append(valmean,enertaubmean)\n",
    "    for a in airvec:\n",
    "        Ua=np.sqrt(a**2/2);Va=np.sqrt(a**2/2)\n",
    "        (enertauavec,enertaubvec,enertauamean,enertaubmean)=enervects(uit,vit,Ut,Vt,Ua,Va)\n",
    "        (M2amptaua,M2phtaua)=ampphM2(enertauavec)\n",
    "        valam=np.append(valam,M2amptaua)\n",
    "        valph=np.append(valph,M2phtaua)  \n",
    "#         valmean=np.append(valmean,enertauamean)\n",
    "        valmean=np.append(valmean,enertauaM2mean)\n",
    "    val=np.column_stack((valam,valph,valmean))\n",
    "    enerval.update({b:val})"
   ]
  },
  {
   "cell_type": "code",
   "execution_count": 46,
   "metadata": {},
   "outputs": [
    {
     "data": {
      "text/plain": [
       "<matplotlib.legend.Legend at 0x27e616bab48>"
      ]
     },
     "execution_count": 46,
     "metadata": {},
     "output_type": "execute_result"
    },
    {
     "data": {
      "image/png": "[encoded data removed]",
      "text/plain": [
       "<Figure size 864x504 with 1 Axes>"
      ]
     },
     "metadata": {
      "needs_background": "light"
     },
     "output_type": "display_data"
    }
   ],
   "source": [
    "#plotting.\n",
    "#plotting.\n",
    "fig=plt.figure(figsize=(12,7),frameon=True)\n",
    "i=1\n",
    "for a in airvec:\n",
    "    valb=[];vala=[]\n",
    "    for b in barray:\n",
    "        val=enerval[b]\n",
    "        valb=np.append(valb,val[0,0])\n",
    "        vala=np.append(vala,val[i,0])\n",
    "    plt.plot(barray,vala, marker='o', linestyle='None',linewidth=2, markersize=12,label=a)\n",
    "    i+=1\n",
    "plt.plot(barray,valb, marker='o', linestyle='None',linewidth=2, markersize=12,label='bottom') \n",
    "plt.xlabel('Buoys',fontsize=16,fontweight='bold')\n",
    "plt.ylabel('Energy Amplitude of M2 (J/m^2)',fontsize=16,fontweight='bold')\n",
    "plt.legend(loc=1)   "
   ]
  },
  {
   "cell_type": "code",
   "execution_count": null,
   "metadata": {},
   "outputs": [],
   "source": [
    "#"
   ]
  },
  {
   "cell_type": "code",
   "execution_count": 47,
   "metadata": {
    "scrolled": false
   },
   "outputs": [
    {
     "data": {
      "image/png": "[encoded data removed]",
      "text/plain": [
       "<Figure size 864x504 with 1 Axes>"
      ]
     },
     "metadata": {
      "needs_background": "light"
     },
     "output_type": "display_data"
    }
   ],
   "source": [
    "#plotting.\n",
    "#plotting.\n",
    "fig=plt.figure(figsize=(12,7),frameon=True)\n",
    "i=1\n",
    "for a in airvec:\n",
    "    valb=[];vala=[]\n",
    "    for b in barray:\n",
    "        val=enerval[b]\n",
    "        valb=np.append(valb,val[0,2])\n",
    "        vala=np.append(vala,val[i,2])\n",
    "    plt.plot(barray,vala, marker='o', linestyle='None',linewidth=2, markersize=12,label=a)\n",
    "    i+=1\n",
    "plt.plot(barray,valb, marker='o', linestyle='None',linewidth=2, markersize=12,label='bottom') \n",
    "plt.xlabel('Buoys',fontsize=16,fontweight='bold')\n",
    "plt.ylabel('Energy Mean over M2 period (J/m^2s)',fontsize=16,fontweight='bold')\n",
    "plt.legend(loc=1)\n",
    "fig.savefig('mean_energy.png')"
   ]
  },
  {
   "cell_type": "code",
   "execution_count": null,
   "metadata": {},
   "outputs": [],
   "source": [
    "# plot of vel versus energy\n",
    "fig=plt.figure(figsize=(12,7),frameon=True)\n",
    "i=1\n",
    "for b in barray:\n",
    "    valb=[];vala=[]\n",
    "    val=enerval[b]\n",
    "    for a in airvec:\n",
    "        \n",
    "        valb=np.append(valb,val[0,2])\n",
    "        vala=np.append(vala,val[i,2])\n",
    "    plt.plot(barray,vala, marker='o', linestyle='None',linewidth=2, markersize=12,label=a)\n",
    "    i+=1\n",
    "plt.plot(barray,valb, marker='o', linestyle='None',linewidth=2, markersize=12,label='bottom') \n",
    "plt.xlabel('Buoys',fontsize=16,fontweight='bold')\n",
    "plt.ylabel('Energy Mean over M2 period (J/m^2s)',fontsize=16,fontweight='bold')\n",
    "plt.legend(loc=1)\n",
    "fig.savefig('mean_energy.png')"
   ]
  },
  {
   "cell_type": "code",
   "execution_count": 106,
   "metadata": {},
   "outputs": [
    {
     "ename": "NameError",
     "evalue": "name 'Uts' is not defined",
     "output_type": "error",
     "traceback": [
      "\u001b[1;31m---------------------------------------------------------------------------\u001b[0m",
      "\u001b[1;31mNameError\u001b[0m                                 Traceback (most recent call last)",
      "\u001b[1;32m<ipython-input-106-be116fb9b395>\u001b[0m in \u001b[0;36m<module>\u001b[1;34m\u001b[0m\n\u001b[0;32m      6\u001b[0m \u001b[0mfedge\u001b[0m\u001b[1;33m=\u001b[0m\u001b[0mint\u001b[0m\u001b[1;33m(\u001b[0m\u001b[1;36m2\u001b[0m\u001b[1;33m*\u001b[0m\u001b[1;36m24\u001b[0m\u001b[1;33m*\u001b[0m\u001b[1;36m2\u001b[0m\u001b[1;33m/\u001b[0m\u001b[1;36m2\u001b[0m\u001b[1;33m)\u001b[0m\u001b[1;33m\u001b[0m\u001b[1;33m\u001b[0m\u001b[0m\n\u001b[0;32m      7\u001b[0m \u001b[0mTres\u001b[0m\u001b[1;33m=\u001b[0m\u001b[0mT\u001b[0m\u001b[1;33m[\u001b[0m\u001b[0mfedge\u001b[0m\u001b[1;33m:\u001b[0m\u001b[1;33m-\u001b[0m\u001b[0mfedge\u001b[0m\u001b[1;33m]\u001b[0m\u001b[1;33m\u001b[0m\u001b[1;33m\u001b[0m\u001b[0m\n\u001b[1;32m----> 8\u001b[1;33m \u001b[0mCoru\u001b[0m\u001b[1;33m=\u001b[0m\u001b[0mscipy\u001b[0m\u001b[1;33m.\u001b[0m\u001b[0mstats\u001b[0m\u001b[1;33m.\u001b[0m\u001b[0mpearsonr\u001b[0m\u001b[1;33m(\u001b[0m\u001b[0mUbres\u001b[0m\u001b[1;33m,\u001b[0m\u001b[0mUbres\u001b[0m\u001b[1;33m-\u001b[0m\u001b[0mUts\u001b[0m\u001b[1;33m)\u001b[0m\u001b[1;33m\u001b[0m\u001b[1;33m\u001b[0m\u001b[0m\n\u001b[0m\u001b[0;32m      9\u001b[0m \u001b[0mCorv\u001b[0m\u001b[1;33m=\u001b[0m\u001b[0mscipy\u001b[0m\u001b[1;33m.\u001b[0m\u001b[0mstats\u001b[0m\u001b[1;33m.\u001b[0m\u001b[0mpearsonr\u001b[0m\u001b[1;33m(\u001b[0m\u001b[0mVbres\u001b[0m\u001b[1;33m,\u001b[0m\u001b[0mVbres\u001b[0m\u001b[1;33m-\u001b[0m\u001b[0mVts\u001b[0m\u001b[1;33m)\u001b[0m\u001b[1;33m\u001b[0m\u001b[1;33m\u001b[0m\u001b[0m\n\u001b[0;32m     10\u001b[0m \u001b[0mprint\u001b[0m\u001b[1;33m(\u001b[0m\u001b[0mCoru\u001b[0m\u001b[1;33m,\u001b[0m\u001b[0mCorv\u001b[0m\u001b[1;33m)\u001b[0m\u001b[1;33m\u001b[0m\u001b[1;33m\u001b[0m\u001b[0m\n",
      "\u001b[1;31mNameError\u001b[0m: name 'Uts' is not defined"
     ]
    }
   ],
   "source": [
    "#plot for uit-ut\n",
    "midindex=288*7  #this is index for splitting the quiver plot. It varies per buoy.\n",
    "ylim=0.9 #this is the y axis limit in the graph.\n",
    "labelname=['gtsm','obs']\n",
    "name='model-obs-obs'\n",
    "fedge=int(2*24*2/2)\n",
    "Tres=T[fedge:-fedge]\n",
    "Coru=scipy.stats.pearsonr(Ubres,Ubres-Uts)\n",
    "Corv=scipy.stats.pearsonr(Vbres,Vbres-Vts)\n",
    "print(Coru,Corv)\n",
    "plots.pltvelquiver('../',name,Tres,midindex,ylim,Ubres-Uts,Vbres-Vts,Ubres,Vbres,Coru,Corv,labelname)"
   ]
  },
  {
   "cell_type": "code",
   "execution_count": null,
   "metadata": {},
   "outputs": [],
   "source": [
    "#plot for uit-ut\n",
    "fig=plt.figure(figsize=(12,5))\n",
    "ax=plt.subplot(1,2,1)\n",
    "ax.plot(Ubres*(Uts-Ubres)**2,label='diff')\n",
    "ax.plot(0.3*Uts**3,label='0.3*gtsm')\n",
    "plt.legend(loc=1)\n",
    "ax.set_xlabel('time')\n",
    "ax.set_xlabel('U^3')\n",
    "ax=plt.subplot(1,2,2)\n",
    "ax.plot(Vbres*(Vts-Vbres)**2,label='diff')\n",
    "ax.plot(0.3*Vts**3,label='0.3*gtsm')\n",
    "ax.set_xlabel('time')\n",
    "ax.set_xlabel('V^3')\n",
    "plt.legend(loc=1)\n",
    "# plt.savefig('../../generated_data/'+bname+'/pgdifflo0.12la0.01.jpg')\n",
    "plt.show()\n",
    "print(Ubres[-30:])\n",
    "print(Uts-Ubres)"
   ]
  },
  {
   "cell_type": "code",
   "execution_count": null,
   "metadata": {},
   "outputs": [],
   "source": [
    "#plot for uit-ut\n",
    "fig=plt.figure(figsize=(12,5))\n",
    "ax=plt.subplot(1,2,1)\n",
    "ax.plot(Ubres*(Uts-Ubres)**2,label='diff')\n",
    "ax.plot(0.3*Uts**3,label='0.3*gtsm')\n",
    "plt.legend(loc=1)\n",
    "ax.set_xlabel('time')\n",
    "ax.set_xlabel('U^3')\n",
    "ax=plt.subplot(1,2,2)\n",
    "ax.plot(Vbres*(Vts-Vbres)**2,label='diff')\n",
    "ax.plot(0.3*Vts**3,label='0.3*gtsm')\n",
    "ax.set_xlabel('time')\n",
    "ax.set_xlabel('V^3')\n",
    "plt.legend(loc=1)\n",
    "# plt.savefig('../../generated_data/'+bname+'/pgdifflo0.12la0.01.jpg')\n",
    "plt.show()\n",
    "print(Ubres[-30:])\n",
    "print(Uts-Ubres)"
   ]
  },
  {
   "cell_type": "code",
   "execution_count": null,
   "metadata": {},
   "outputs": [],
   "source": [
    "#iteration over the functions to get energy\n",
    "barray=['02','03','09','13','14','16'] \n",
    "for b in barray:\n",
    "    Bnum=b\n",
    "    [s,SD,loc]=readdata(Bnum)\n",
    "    [Uib,Vib,Uisvec,T]=genvelplots(SD,loc)\n",
    "    (Usres,Vsres,Uts,Vts,Ubres,Vbres)=compnplotvelvect(SD,Bnum,loc,T)\n",
    "    (bname,Cwi,Cai,Cbi,g,beta,rho_air,rho_ice,rho_water,D)=readmaindata(s,Bnum)\n",
    "    (u,v,Ut,Vt,Ua,Va,Uo,Vo,Uw,Vw,Vt,Hvec,uit,vit,Ua_mag,Uw_mag)=readveldata(D,Uib,Vib,beta)\n",
    "    (enerwindtraj,meanenerwind,stdenerwind)=windenergy(u,v,Ua,Va)\n",
    "    (enerwatertraj,meanenerwater,stdenerwater)=waterenergy(u,v,Uw,Vw)\n",
    "    (enertidetraj,meanenertide,stdenertide)=tideenergy(uit,vit,Uts,Vts)\n",
    "    (enerbottomtraj,meanenerbottom,stdenerbottom)=bottomenergy(Uts,Vts)\n",
    "    ener2excel()"
   ]
  },
  {
   "cell_type": "code",
   "execution_count": null,
   "metadata": {},
   "outputs": [],
   "source": [
    "Bnum='16'\n",
    "bname='BUOY_'+Bnum"
   ]
  },
  {
   "cell_type": "code",
   "execution_count": null,
   "metadata": {
    "scrolled": true
   },
   "outputs": [],
   "source": [
    "#Pressure gradients sensitivity.\n",
    "locposvel='../../generated_data/'+bname+'/Pos_Vel_data.xlsx'\n",
    "df=pd.read_excel(locposvel,'PGs')\n",
    "df2=pd.read_excel(locposvel,'Sheet1')\n",
    "Pgxt=df['Pgxt'];Pgyt=df['Pgyt']\n",
    "Pgxtr=df['Pgxtr'];Pgytr=df['Pgytr']\n",
    "Pgxtl=df['Pgxtl'];Pgytl=df['Pgytl']\n",
    "Fgxt=df2['Fpgx'];Fgyt=df2['Fpgy']\n",
    "H=df2['WDt'];h=df2['ssht']\n",
    "Hb=H-h\n",
    "\n",
    "diffx_fg=Pgxt-Fgxt;diffy_fg=Pgyt-Fgyt\n",
    "diffx=((Pgxtr-Pgxtl));diffy=abs((Pgytr-Pgytl))\n",
    "print((diffx))"
   ]
  },
  {
   "cell_type": "code",
   "execution_count": null,
   "metadata": {},
   "outputs": [],
   "source": [
    "Uog=df2['Uog'];Vog=df2['Vog']\n",
    "Ut=df2['Ut'];Vt=df2['Vt']\n",
    "Uib=df2['Uib'];Ua=df2['Ua'];Uo=df2['Uo']\n",
    "Vib=df2['Vib']\n",
    "Uamag=np.sqrt(Ua**2+Va**2)"
   ]
  },
  {
   "cell_type": "code",
   "execution_count": null,
   "metadata": {},
   "outputs": [],
   "source": [
    "import runningmodel as rm\n",
    "(XD,YD)=rm.statscompute(s,Ua,Va,Uib,Vib)"
   ]
  },
  {
   "cell_type": "code",
   "execution_count": null,
   "metadata": {},
   "outputs": [],
   "source": [
    "Uafil=XD['Xofil'];Vafil=YD['Yofil']\n",
    "edge=int(2*24*2/2)\n",
    "Uares=Ua[edge:-edge]-Uafil\n",
    "Vares=Va[edge:-edge]-Vafil\n",
    "plt.plot(Vares)\n",
    "# plt.plot(Ut)\n",
    "Tft=SD['Tft']\n",
    "argtide=SD['tidearg'];argcor=SD['corarg']\n",
    "argval=np.append(Tft[argtide],Tft[argcor])\n",
    "# X and Y amplitudes (lon and lat)\n",
    "units='deg'\n",
    "plots.pltFT('',Bnum+'UaFT',XD['Xoft'],XD['Xoft'],units,Tft,argval)"
   ]
  },
  {
   "cell_type": "code",
   "execution_count": null,
   "metadata": {
    "scrolled": true
   },
   "outputs": [],
   "source": [
    "llim=0;ulim=-1\n",
    "fig=plt.figure(figsize=(12,5))\n",
    "ax=plt.subplot(1,2,1)\n",
    "ax.plot(Pgxt[llim:ulim],label='CDg')\n",
    "ax.plot(Fgxt[llim:ulim],label='CDf')\n",
    "# ax.plot(Pgxtr,label='FD')\n",
    "# ax.plot(Pgxtl,label='BD')\n",
    "# ax.plot(diffx[llim:ulim],label='sens')\n",
    "# ax.plot(diffx_fg[llim:ulim],label='g-f')\n",
    "plt.legend(loc=1)\n",
    "ax=plt.subplot(1,2,2)\n",
    "ax.plot(Pgyt[llim:ulim],label='CDg')\n",
    "ax.plot(Fgyt[llim:ulim],label='CDf')\n",
    "# ax.plot(Pgytr,label='FD')\n",
    "# ax.plot(Pgytl,label='BD')\n",
    "# ax.plot(diffy[llim:ulim]*100,label='sens')\n",
    "# ax.plot(diffy_fg[llim:ulim],label='g-f')\n",
    "plt.legend(loc=1)\n",
    "# plt.savefig('../../generated_data/'+bname+'/pgdifflo0.12la0.01.jpg')\n",
    "plt.show()"
   ]
  },
  {
   "cell_type": "code",
   "execution_count": null,
   "metadata": {},
   "outputs": [],
   "source": [
    "#compute gradient of water depth. \n",
    "Xib=df2['Xib'];Yib=df2['Yib']\n",
    "dHdxvec=[];dHdyvec=[];\n",
    "for j in range(len(Xib)-1):\n",
    "    dlon=Xib[j+1]-Xib[j]\n",
    "    dlat=Yib[j+1]-Yib[j]\n",
    "    dH=H[j+1]-H[j]\n",
    "    lat=Yib[j];lon=Xib[j]\n",
    "    dlatm=111.32e03*dlat;dlonm=111.32e03*dlon/4.\n",
    "    dHdx=dH/dlonm;dHdy=dH/dlatm\n",
    "    dHdxvec=np.append(dHdxvec,dHdx)\n",
    "    dHdyvec=np.append(dHdyvec,dHdy)"
   ]
  },
  {
   "cell_type": "code",
   "execution_count": 38,
   "metadata": {},
   "outputs": [
    {
     "data": {
      "text/plain": [
       "-6.308787957518634e-17"
      ]
     },
     "execution_count": 38,
     "metadata": {},
     "output_type": "execute_result"
    }
   ],
   "source": [
    "#mean of sin\n",
    "A=4\n",
    "t=np.linspace(0,2*np.pi,100)\n",
    "w=A*np.sin(t)\n",
    "np.mean(w)"
   ]
  },
  {
   "cell_type": "code",
   "execution_count": 39,
   "metadata": {},
   "outputs": [
    {
     "data": {
      "text/plain": [
       "[<matplotlib.lines.Line2D at 0x27e614c1188>]"
      ]
     },
     "execution_count": 39,
     "metadata": {},
     "output_type": "execute_result"
    },
    {
     "data": {
      "image/png": "[encoded data removed]",
      "text/plain": [
       "<Figure size 432x288 with 1 Axes>"
      ]
     },
     "metadata": {
      "needs_background": "light"
     },
     "output_type": "display_data"
    }
   ],
   "source": [
    "plt.plot(w)"
   ]
  },
  {
   "cell_type": "code",
   "execution_count": null,
   "metadata": {},
   "outputs": [],
   "source": []
  }
 ],
 "metadata": {
  "kernelspec": {
   "display_name": "Python 3",
   "language": "python",
   "name": "python3"
  },
  "language_info": {
   "codemirror_mode": {
    "name": "ipython",
    "version": 3
   },
   "file_extension": ".py",
   "mimetype": "text/x-python",
   "name": "python",
   "nbconvert_exporter": "python",
   "pygments_lexer": "ipython3",
   "version": "3.7.5"
  }
 },
 "nbformat": 4,
 "nbformat_minor": 4
}
