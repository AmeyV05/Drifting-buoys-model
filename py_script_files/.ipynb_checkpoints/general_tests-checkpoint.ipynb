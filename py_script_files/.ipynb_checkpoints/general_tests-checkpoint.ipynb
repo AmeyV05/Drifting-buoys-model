{
 "cells": [
  {
   "cell_type": "code",
   "execution_count": 1,
   "metadata": {},
   "outputs": [
    {
     "ename": "ModuleNotFoundError",
     "evalue": "No module named 'netCDF4'",
     "output_type": "error",
     "traceback": [
      "\u001b[1;31m---------------------------------------------------------------------------\u001b[0m",
      "\u001b[1;31mModuleNotFoundError\u001b[0m                       Traceback (most recent call last)",
      "\u001b[1;32m<ipython-input-1-badd14bc3087>\u001b[0m in \u001b[0;36m<module>\u001b[1;34m\u001b[0m\n\u001b[0;32m      1\u001b[0m \u001b[1;31m####module to load data from all the .nc files of the various models.\u001b[0m\u001b[1;33m\u001b[0m\u001b[1;33m\u001b[0m\u001b[1;33m\u001b[0m\u001b[0m\n\u001b[1;32m----> 2\u001b[1;33m \u001b[1;32mimport\u001b[0m \u001b[0mnetCDF4\u001b[0m \u001b[1;32mas\u001b[0m \u001b[0mnc4\u001b[0m\u001b[1;33m\u001b[0m\u001b[1;33m\u001b[0m\u001b[0m\n\u001b[0m\u001b[0;32m      3\u001b[0m \u001b[1;32mimport\u001b[0m \u001b[0mnumpy\u001b[0m \u001b[1;32mas\u001b[0m \u001b[0mnp\u001b[0m\u001b[1;33m\u001b[0m\u001b[1;33m\u001b[0m\u001b[0m\n\u001b[0;32m      4\u001b[0m \u001b[1;32mimport\u001b[0m \u001b[0mpandas\u001b[0m \u001b[1;32mas\u001b[0m \u001b[0mpd\u001b[0m\u001b[1;33m\u001b[0m\u001b[1;33m\u001b[0m\u001b[0m\n\u001b[0;32m      5\u001b[0m \u001b[1;32mimport\u001b[0m \u001b[0mgeneralfunc\u001b[0m \u001b[1;32mas\u001b[0m \u001b[0mgf\u001b[0m\u001b[1;33m\u001b[0m\u001b[1;33m\u001b[0m\u001b[0m\n",
      "\u001b[1;31mModuleNotFoundError\u001b[0m: No module named 'netCDF4'"
     ]
    }
   ],
   "source": [
    "####module to load data from all the .nc files of the various models.\n",
    "import netCDF4 as nc4 \n",
    "import numpy as np\n",
    "import pandas as pd\n",
    "import generalfunc as gf\n",
    "import logging \n",
    "import readingdata \n",
    "import importlib\n",
    "import matplotlib.pyplot as plt\n",
    "import generalfunc as gf\n",
    "import plots\n",
    "import cartopy.crs as ccrs\n",
    "import cartopy.feature as cpf \n",
    "import matplotlib.ticker as mticker\n",
    "import matplotlib.transforms as transforms\n",
    "from cartopy.mpl.gridliner import LONGITUDE_FORMATTER, LATITUDE_FORMATTER\n",
    "import xarray as xr\n",
    "from scipy.interpolate import griddata\n",
    "import cmocean\n"
   ]
  },
  {
   "cell_type": "code",
   "execution_count": null,
   "metadata": {},
   "outputs": [],
   "source": [
    "fileloc=\"../../container/Model_n_buoy_data\"\n",
    "file1=fileloc+\"/GTSM_final_truncated.nc\"\n",
    "file2=fileloc+\"/gtsm_truncated_wd.nc\"\n",
    "[Xt,Yt,ut,vt,ssht,wdt,Tt]=readingdata.read_GTSM_map(file1,file2)\n",
    "TD={'Xt': Xt,'Yt': Yt,'ut': ut,'vt': vt,'ssht': ssht,'wdt':wdt,'Tt': Tt}"
   ]
  },
  {
   "cell_type": "code",
   "execution_count": null,
   "metadata": {},
   "outputs": [],
   "source": []
  },
  {
   "cell_type": "code",
   "execution_count": null,
   "metadata": {},
   "outputs": [],
   "source": [
    "fig=plt.figure(figsize=(12, 12), frameon=True)\n",
    "ax=plt.axes(projection=ccrs.LambertAzimuthalEqualArea(central_longitude=25.0,central_latitude=77.0)) \n",
    "ax.set_extent([16,28,74.5,80])\n",
    "fig.canvas.draw()\n",
    "xticks = [ 0, 4, 12, 16, 20, 24, 28, 32, 36]\n",
    "yticks = [72, 74.5, 77, 79.5, 82]\n",
    "ax.gridlines(xlocs=xticks, ylocs=yticks)\n",
    "# Label the end-points of the gridlines using the custom tick makers:\n",
    "ax.xaxis.set_major_formatter(LONGITUDE_FORMATTER) \n",
    "ax.yaxis.set_major_formatter(LATITUDE_FORMATTER)\n",
    "plots.lambert_xticks(ax, xticks)\n",
    "plots.lambert_yticks(ax, yticks)\n",
    "\n",
    "# gebco wms background \n",
    "# service='https://www.gebco.net/data_and_products/gebco_web_services/web_map_service/mapserv?'\n",
    "# ax.add_wms(service,layers=['GEBCO_LATEST'],wms_kwargs={'width':900*2,'height':600*2})\n",
    "\n",
    "\n",
    "feature=cpf.GSHHSFeature(scale='i',levels=[1],facecolor='#e6e1e1',alpha=1)\n",
    "ax.add_feature(feature) \n",
    "# plt.savefig(loc+'/allbuoytracks.jpg',format='jpg',dpi=600)\n",
    "# plt.close(fig) "
   ]
  },
  {
   "cell_type": "code",
   "execution_count": null,
   "metadata": {},
   "outputs": [],
   "source": [
    "iceparmfile='../../container/Model_n_buoy_data/ice-param-mercator.nc'\n",
    "icedf=xr.open_dataset(iceparmfile)\n",
    "icedf.info()"
   ]
  },
  {
   "cell_type": "code",
   "execution_count": null,
   "metadata": {},
   "outputs": [],
   "source": [
    "siconc=icedf.siconc.values\n",
    "lon=icedf.longitude.values\n",
    "lat=icedf.latitude.values\n",
    "time=icedf.time.values\n",
    "print(np.shape(siconc))"
   ]
  },
  {
   "cell_type": "code",
   "execution_count": null,
   "metadata": {},
   "outputs": [],
   "source": [
    "# processing the velocity vector data to interpolate it to a grid,\n",
    "lonmin=lon.min();lonmax=lon.max()\n",
    "print(lonmin,lonmax)\n",
    "latmin=lat.min();latmax=lat.max()\n",
    "print(latmin,latmax)\n",
    "lonvec=np.linspace(lonmin,lonmax,181);latvec=np.linspace(latmin,latmax,481)\n",
    "longrid,latgrid=np.meshgrid(lonvec,latvec)\n",
    "\n",
    "# j=5\n",
    "# sicongrid=griddata((lon,lat),siconc[j,:,:],(longrid,latgrid),method='linear',fill_value=np.nan)\n"
   ]
  },
  {
   "cell_type": "code",
   "execution_count": null,
   "metadata": {},
   "outputs": [],
   "source": [
    "j=30\n",
    "siconct=siconc[j,:,:].T\n",
    "fig=plt.figure(figsize=(12, 12), frameon=True)\n",
    "ax=plt.axes(projection=ccrs.LambertAzimuthalEqualArea(central_longitude=25.0,central_latitude=77.0)) \n",
    "ax.set_extent([16,28,74.5,80])\n",
    "fig.canvas.draw()\n",
    "xticks = [ 0, 4, 12, 16, 20, 24, 28, 32, 36]\n",
    "yticks = [72, 74.5, 77, 79.5, 82]\n",
    "ax.gridlines(xlocs=xticks, ylocs=yticks)\n",
    "# Label the end-points of the gridlines using the custom tick makers:\n",
    "ax.xaxis.set_major_formatter(LONGITUDE_FORMATTER) \n",
    "ax.yaxis.set_major_formatter(LATITUDE_FORMATTER)\n",
    "plots.lambert_xticks(ax, xticks)\n",
    "plots.lambert_yticks(ax, yticks)\n",
    "\n",
    "# gebco wms background \n",
    "# service='https://www.gebco.net/data_and_products/gebco_web_services/web_map_service/mapserv?'\n",
    "# ax.add_wms(service,layers=['GEBCO_LATEST'],wms_kwargs={'width':900*2,'height':600*2})\n",
    "\n",
    "feature=cpf.GSHHSFeature(scale='i',levels=[1],facecolor='#e6e1e1',alpha=1)\n",
    "ax.add_feature(feature) \n",
    "ax.add_feature(cpf.OCEAN,color='black')\n",
    "cmap=cmocean.cm.ice\n",
    "cont=ax.contourf(longrid.T,latgrid.T,siconc[j,:,:],levels=np.linspace(0,1,50),cmap=cmap,transform=ccrs.PlateCarree())\n",
    "fig.colorbar(cont)\n",
    "\n",
    "# plt.savefig(loc+'/allbuoytracks.jpg',format='jpg',dpi=600)\n",
    "# plt.close(fig) "
   ]
  },
  {
   "cell_type": "markdown",
   "metadata": {},
   "source": [
    "Reading dataset from HYCOM model. \n"
   ]
  },
  {
   "cell_type": "code",
   "execution_count": null,
   "metadata": {},
   "outputs": [],
   "source": [
    "import netCDF4\n",
    "url='http://tds.hycom.org/thredds/dodsC/GLBv0.08/expt_53.X/data_ice/2014?lat[2750:1:3250],lon[2249:1:2749],time[1752:1:3624],ssu[1752:1:3624][0:1:10][0:1:10],ssv[1752:1:3624][2750:1:3250][2249:1:2749],sic[0:1:0][2750:1:3250][2249:1:2749]'\n",
    "dataset = netCDF4.Dataset(url)\n",
    " \n",
    "# lookup a variable\n"
   ]
  },
  {
   "cell_type": "code",
   "execution_count": null,
   "metadata": {},
   "outputs": [],
   "source": [
    "print(dataset)"
   ]
  },
  {
   "cell_type": "code",
   "execution_count": null,
   "metadata": {},
   "outputs": [],
   "source": [
    "import xarray as xr\n",
    "url='http://tds.hycom.org/thredds/dodsC/GLBv0.08/expt_53.X/data_ice/2014?lat[2750:1:3125],lon[2250:1:2750],time[1728:1:3562],ssv[1728:1:3562][2750:1:3125][2250:1:2750]'\n",
    "\n",
    "df=xr.open_dataset(url)\n",
    "print(df.info())\n",
    "df.close()"
   ]
  },
  {
   "cell_type": "code",
   "execution_count": null,
   "metadata": {},
   "outputs": [],
   "source": [
    "df"
   ]
  },
  {
   "cell_type": "code",
   "execution_count": null,
   "metadata": {},
   "outputs": [],
   "source": [
    "df.time.values"
   ]
  },
  {
   "cell_type": "code",
   "execution_count": null,
   "metadata": {},
   "outputs": [],
   "source": [
    "url='http://tds.hycom.org/thredds/dodsC/GLBv0.08/expt_53.X/data/2014?depth[0:1:1],lat[2750:1:3125],lon[2250:1:2750],time[570:1:1190],water_u[584:1:1206][0:1:1][2750:1:3125][2250:1:2750]'\n",
    "df1=xr.open_dataset(url)"
   ]
  },
  {
   "cell_type": "code",
   "execution_count": null,
   "metadata": {},
   "outputs": [],
   "source": [
    "df1"
   ]
  },
  {
   "cell_type": "markdown",
   "metadata": {},
   "source": [
    "Comparing the FES and GTSM pressure gradients\n"
   ]
  },
  {
   "cell_type": "code",
   "execution_count": null,
   "metadata": {},
   "outputs": [],
   "source": [
    "Bnum='16'\n",
    "\n",
    "bname='BUOY_'+Bnum\n",
    "loc='../../generated_data/'+bname+'/'\n",
    "fname=loc+'Pos_Vel_data.xlsx'\n"
   ]
  }
 ],
 "metadata": {
  "interpreter": {
   "hash": "91eec93744c5f82c5aec1fa24f98833ae1f681214a02e718e2b0d34267736a4d"
  },
  "kernelspec": {
   "display_name": "Python 3",
   "language": "python",
   "name": "python3"
  }
 },
 "nbformat": 4,
 "nbformat_minor": 2
}
