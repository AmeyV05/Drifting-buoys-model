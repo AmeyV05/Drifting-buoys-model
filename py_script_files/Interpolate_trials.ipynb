{
 "cells": [
  {
   "cell_type": "code",
   "execution_count": 1,
   "metadata": {},
   "outputs": [],
   "source": [
    "# interpolate_trial\n",
    "\n",
    "#This script is a trial script to generate pressure gradients in the interpolation data for sea surface heights.\n",
    "import numpy as np \n",
    "import netCDF4 as nc4 \n",
    "import pandas as pd \n",
    "import os \n",
    "import generalfunc as gf\n",
    "import plots\n",
    "import cartopy.crs as ccrs\n",
    "import cartopy.feature as cpf \n",
    "import matplotlib.pyplot as plt\n",
    "\n",
    "from matplotlib.animation import FuncAnimation  "
   ]
  },
  {
   "cell_type": "code",
   "execution_count": 2,
   "metadata": {},
   "outputs": [],
   "source": [
    "def read_GTSM_map(file):\n",
    "\tGTSM_data= nc4.Dataset(file)\n",
    "\tgtsm_grp=GTSM_data.groups['GTSM Tidal truncated data']\n",
    "\tXt=np.array(gtsm_grp.variables[\"FlowElem_xcc\"]) #X is longitdue and Y is latitude\n",
    "\tYt=np.array(gtsm_grp.variables[\"FlowElem_ycc\"])\n",
    "\tTt=np.array(gtsm_grp.variables[\"Time\"]) \n",
    "\tUt=np.array(gtsm_grp.variables[\"ucx\"])\n",
    "\tVt=np.array(gtsm_grp.variables[\"ucy\"])\n",
    "\tssht=np.array(gtsm_grp.variables[\"s1\"]) #sea surface heights.\n",
    "\tprint(\"Completed reading GTSM data\")\n",
    "\treturn (Xt,Yt,Ut,Vt,ssht,Tt)\n",
    "\n",
    "\n",
    "\n",
    "def read_bdata(file,Bnum):\n",
    "\tprefix=\"BUOY_\"\n",
    "\tbname=prefix+Bnum\n",
    "\tprint(\"Reading data for \"+bname)\n",
    "\tfile=file+bname+'.csv'\n",
    "\tD=pd.read_csv(file)\n",
    "\tXib=np.array(D['Lon'])\n",
    "\tYib=np.array(D['Lat'])\n",
    "\tTib=np.array(D['Date(GMT)'])\n",
    "\tD.head()\n",
    "\t#velocity computation using the buoy data\n",
    "\tdt=15*60 #sampling time step for each buoy observation.\n",
    "\tUib=[];Vib=[]\n",
    "\tfor j in range(len(Xib)-1):\n",
    "\t\tdlon=Xib[j+1]-Xib[j]\n",
    "\t\tdlat=Yib[j+1]-Yib[j]\n",
    "\t\tlat=Yib[j]\n",
    "\t\t(dlatm,dlonm)=gf.latlon2meters(lat,dlat,dlon)\n",
    "\t\tUib=np.append(Uib,(dlonm)/dt)\n",
    "\t\tVib=np.append(Vib,(dlatm)/dt)\n",
    "\treturn(Xib,Yib,Uib,Vib,Tib)\n"
   ]
  },
  {
   "cell_type": "code",
   "execution_count": 3,
   "metadata": {},
   "outputs": [],
   "source": [
    "# reading nc file and getting the data\n",
    "fileloc=\"../../container/Model_n_buoy_data\"\n",
    "Bnum='09' \n",
    "sdate=96*16\n",
    "# indexing=5952-sdate\n",
    "indexing=3160-sdate"
   ]
  },
  {
   "cell_type": "code",
   "execution_count": 4,
   "metadata": {},
   "outputs": [
    {
     "name": "stdout",
     "output_type": "stream",
     "text": [
      "Reading data for BUOY_09\n",
      "3161\n"
     ]
    }
   ],
   "source": [
    "## Reading buoy data.\n",
    "file =fileloc+\"/buoy_data/\"\n",
    "[Xib,Yib,Uib,Vib,Tib]=read_bdata(file,Bnum)\n",
    "BD={'Xib': Xib,'Yib': Yib,'Uib': Uib,'Vib': Vib,'Tib': Tib} #dictionary for all the vectors.\n",
    "print(len(Xib))"
   ]
  },
  {
   "cell_type": "code",
   "execution_count": 5,
   "metadata": {},
   "outputs": [
    {
     "name": "stdout",
     "output_type": "stream",
     "text": [
      "Completed reading GTSM data\n"
     ]
    }
   ],
   "source": [
    "\n",
    "# #####GTSM data\n",
    "file=fileloc+\"/GTSM_final_truncated.nc\"\n",
    "[Xt,Yt,ut,vt,ssht,Tt]=read_GTSM_map(file)\n",
    "TD={'Xt': Xt,'Yt': Yt,'ut': ut,'vt': vt,'ssht': ssht,'Tt': Tt}\n"
   ]
  },
  {
   "cell_type": "code",
   "execution_count": 6,
   "metadata": {},
   "outputs": [
    {
     "name": "stdout",
     "output_type": "stream",
     "text": [
      "1625\n"
     ]
    }
   ],
   "source": [
    "## Processing\n",
    "prefix=\"BUOY_\"\n",
    "bname=prefix+Bnum\n",
    "##Buoy data processing\n",
    "# BD=FD['BD'] #dictionary where buoy_data is saved.\n",
    "Xib=BD['Xib'][sdate:]; Yib=BD['Yib'][sdate:]\n",
    "Uib=BD['Uib'][sdate:]; Vib=BD['Vib'][sdate:]\n",
    "Tib=BD['Tib'][sdate:]\n",
    "print(len(Xib))"
   ]
  },
  {
   "cell_type": "code",
   "execution_count": 7,
   "metadata": {},
   "outputs": [],
   "source": [
    "## Processing GTSM data.\n",
    "# obtaining GTSM tidal data in vector form interpolated to buoy locations.\n",
    "sindex=sdate-96\n",
    "eindex=sindex+indexing\n",
    "arrlen=eindex-sindex\n",
    "Xt=TD['Xt']; Yt=TD['Yt']\n",
    "ut=TD['ut']; vt=TD['vt']\n",
    "Tt=TD['Tt']; ssht=TD['ssht']\n",
    "Tt=gf.num2datetimesecs(2014,3,1,sindex,eindex,Tt)\n",
    "ut=ut[sindex:eindex,:];vt=vt[sindex:eindex,:];ssht=ssht[sindex:eindex,:]\n",
    "# processing of gtsm data\n",
    "#interpolating the u and v velocities to the buoy locations.\n",
    "Buoy_Xi=Xib; Buoy_Yi=Yib#buoy longitude (x position)\n",
    "Ut=[];Vt=[];Pgxt=[];Pgyt=[];Pgxtr=[];Pgytr=[];Pgxtl=[];Pgytl=[]"
   ]
  },
  {
   "cell_type": "code",
   "execution_count": 8,
   "metadata": {},
   "outputs": [],
   "source": [
    "from scipy.interpolate import griddata\n"
   ]
  },
  {
   "cell_type": "code",
   "execution_count": null,
   "metadata": {},
   "outputs": [],
   "source": [
    "llim=0;ulim=-1\n",
    "Buoy_X=Buoy_Xi[llim:ulim];Buoy_Y=Buoy_Yi[llim:ulim]\n",
    "path='..'\n",
    "plots.plticepos(Xib[0:866],Yib[0:866],Xib,Yib,path)\n",
    "\n"
   ]
  },
  {
   "cell_type": "code",
   "execution_count": null,
   "metadata": {},
   "outputs": [],
   "source": [
    "dlon=1;dlat=0.02\n",
    "dlonm=dlatm=1\n",
    "for i in range(len(Buoy_X)):\n",
    "    xk=Buoy_X[i];yk=Buoy_Y[i]\n",
    "    pointvec1=np.array([[xk,yk],[xk+dlon,yk],[xk-dlon,yk],[xk,yk+dlat],[xk,yk-dlat]])\n",
    "    ut_time=ut[llim+i,:];vt_time=vt[llim+i,:];ssht_time=ssht[llim+i,:]\n",
    "    xp=pointvec1[:,0];yp=pointvec1[:,1]\n",
    "    grid_z0 = griddata((Xt,Yt), ssht_time, (xp, yp), method='cubic')\n",
    "#     print(grid_z0)\n",
    "    dhxr=grid_z0[1]-grid_z0[0]\n",
    "    dhxl=grid_z0[0]-grid_z0[2]\n",
    "    dhx=grid_z0[1]-grid_z0[2]\n",
    "    dhyr=grid_z0[3]-grid_z0[0]\n",
    "    dhyl=grid_z0[0]-grid_z0[4]\n",
    "    dhy=grid_z0[3]-grid_z0[4]\n",
    "    sensx=((dhxr-dhxl)*100)/dhxr\n",
    "    sensy=((dhyr-dhyl)*100)/dhyr\n",
    "    print(i)\n",
    "    print(sensx,sensy)"
   ]
  },
  {
   "cell_type": "code",
   "execution_count": null,
   "metadata": {},
   "outputs": [],
   "source": [
    "#plotting the unstructured grid on a structured grid. \n",
    "sizelon=int(1e02)\n",
    "sizelat=int(8e02)\n",
    "llon=22;rlon=28\n",
    "llat=76;rlat=79\n",
    "lonvec=np.linspace(llon,rlon,sizelon)\n",
    "latvec=np.linspace(llat,rlat,sizelat)\n",
    "[longrid,latgrid] = np.meshgrid(lonvec,latvec)\n",
    "print(np.shape(longrid))\n",
    "print(np.shape(latgrid))"
   ]
  },
  {
   "cell_type": "code",
   "execution_count": null,
   "metadata": {},
   "outputs": [],
   "source": [
    "ti=15\n",
    "valgrid=griddata((Xt,Yt), ssht[ti,:], (longrid, latgrid), method='cubic')\n",
    "print(np.shape(valgrid))"
   ]
  },
  {
   "cell_type": "code",
   "execution_count": null,
   "metadata": {},
   "outputs": [],
   "source": [
    "fig=plt.figure(figsize=(12, 7), frameon=True)\n",
    "level=np.linspace(-0.5,0.5,150)\n",
    "cf=plt.contour(longrid,latgrid,valgrid,level)\n",
    "fig.colorbar(cf)"
   ]
  },
  {
   "cell_type": "code",
   "execution_count": null,
   "metadata": {},
   "outputs": [],
   "source": [
    "import readsimdata\n",
    "folder='../../container/Buoy_data_excel/procesd_buoy_loc_data_Lars'\n",
    "BD=readsimdata.readallbuoy(folder)"
   ]
  },
  {
   "cell_type": "code",
   "execution_count": null,
   "metadata": {
    "scrolled": true
   },
   "outputs": [],
   "source": [
    "# Buoys=['02','03','09','12','13','14','16']\n",
    "Buoys=['09']\n",
    "fig=plt.figure(figsize=(12, 12), frameon=True)\n",
    "ax=plt.axes(projection=ccrs.LambertAzimuthalEqualArea(central_longitude=25.0,central_latitude=77.0)) \n",
    "# ax.set_extent([15,33,74,81]) \n",
    "# ax.set_extent([0,40,73,81])\n",
    "ax.set_extent([24,28,76,78])\n",
    "# Define gridline locations and draw the lines using cartopy's built-in gridliner:\n",
    "# *must* call draw in order to get the axis boundary used to add ticks:\n",
    "\n",
    "# Plotting buoy obs and buoy simulated locations\n",
    "i=0;pt=96*16\n",
    "for b in Buoys:\n",
    "  # Plotting b-uoy obs and buoy simulated locations\n",
    "    Xib=BD[b+'_x'];Yib=BD[b+'_y']\n",
    "    plt.scatter(Xib[pt],Yib[pt],color='black',transform=ccrs.PlateCarree())\n",
    "    plt.text(Xib[pt],Yib[pt], b, transform=ccrs.PlateCarree(),fontsize=15,fontweight='bold')\n",
    "    plt.plot(Xib[pt:ti+1+pt],Yib[pt:ti+1+pt],transform=ccrs.PlateCarree(),label=b)\n",
    "    i+=1\n",
    "# plt.plot(Xib,Yib,color='red',transform=ccrs.PlateCarree(),label='buoy drift')\n",
    "level=np.linspace(-0.5,1,200)\n",
    "cp=plt.contour(longrid,latgrid,valgrid,level,transform=ccrs.PlateCarree())\n",
    "fig.colorbar(cp)\n",
    "\n",
    "feature=cpf.GSHHSFeature(scale='i',levels=[1],facecolor='#e6e1e1',alpha=1)\n",
    "ax.add_feature(feature) \n",
    "plt.legend(prop={\"size\":16},framealpha=1)\n",
    "plt.show()\n",
    "# plt.savefig('ssh_752_all_b.jpg',dpi=700)\n",
    "# plt.close(fig) "
   ]
  },
  {
   "cell_type": "code",
   "execution_count": null,
   "metadata": {
    "scrolled": true
   },
   "outputs": [],
   "source": [
    "  \n",
    "# initializing a figure in  \n",
    "# which the graph will be plotted \n",
    "level=np.linspace(-0.5,1,200)\n",
    "   \n",
    "# marking the x-axis and y-axis \n",
    "fig=plt.figure(figsize=(12, 12), frameon=True)\n",
    "ax=plt.axes(projection=ccrs.LambertAzimuthalEqualArea(central_longitude=25.0,central_latitude=77.0)) \n",
    "# ax.set_extent([15,33,74,81]) \n",
    "ax.set_extent([22,28,76,78])  \n",
    "feature=cpf.GSHHSFeature(scale='i',levels=[1],facecolor='#e6e1e1',alpha=1)\n",
    "ax.add_feature(feature) \n",
    "level=np.linspace(-1.5,1.5,250)\n",
    "valgrid=griddata((Xt,Yt), ssht[1360,:], (longrid, latgrid), method='cubic')\n",
    "cont=ax.contour(longrid,latgrid,valgrid,level,transform=ccrs.PlateCarree())\n",
    "ax.plot(Xib[0:1360], Yib[0:1360],transform=ccrs.PlateCarree(),color='red')  \n",
    "fig.colorbar(cont)\n"
   ]
  },
  {
   "cell_type": "code",
   "execution_count": null,
   "metadata": {},
   "outputs": [],
   "source": [
    "# # initializing a line variable \n",
    "line, = ax.plot([], [],transform=ccrs.PlateCarree(),color='red')  \n",
    "# # contours,=ax.contour([],[],[],[],transform=ccrs.PlateCarree())\n",
    "# # for index in range(1):\n",
    "# #     lobj = ax.plot([],[],transform=ccrs.PlateCarree(),color=plotcols[index])[0]\n",
    "# #     lines.append(lobj)\n",
    "\n",
    "# # data which the line will  \n",
    "# # contain (x, y) \n",
    "def init():  \n",
    "    line.set_data([],[])\n",
    "    return line,\n",
    "   \n",
    "def animate(i): \n",
    "    global cont\n",
    "#     x = np.linspace(0, 4, 1000) \n",
    "#     line=ax.plot(Xib[0:i],Yib[0:i],transform=ccrs.PlateCarree(),color='red')\n",
    "    line.set_data(Xib[0:i],Yib[0:i])\n",
    "    valgrid = griddata((Xt,Yt), ssht[i,:], (longrid, latgrid), method='cubic')\n",
    "    ax.collections = [] \n",
    "    for c in cont.collections:\n",
    "        c.remove()     \n",
    "    cont=ax.contour(longrid,latgrid,valgrid,level,transform=ccrs.PlateCarree())\n",
    "    return cont, line\n",
    "   \n",
    "# fig.legend(('obs'))\n",
    "# fig.colorbar(contours)\n",
    "anim = FuncAnimation(fig, animate, init_func = init, frames = 20,repeat=False) \n",
    "\n",
    "anim.save('trial3.mp4',writer = 'ffmpeg',fps=1)\n",
    "\n",
    "\n",
    "plt.show()"
   ]
  },
  {
   "cell_type": "code",
   "execution_count": null,
   "metadata": {},
   "outputs": [],
   "source": [
    "import pykrige.kriging_tools as kt\n",
    "from pykrige.ok import OrdinaryKriging"
   ]
  },
  {
   "cell_type": "code",
   "execution_count": 30,
   "metadata": {},
   "outputs": [],
   "source": [
    "i=632;Pgx=[];Pgy=[];Ut=[];Vt=[];k=500;h=[]\n",
    "Pgxvec=[];Pgyvec=[]\n",
    "dlatvec=np.array([0.01,0.02,0.04,0.1,0.25,0.4])\n",
    "for d in dlatvec:\n",
    "    Pgx=[];Pgy=[];Ut=[];Vt=[]\n",
    "    for r in range((1)):\n",
    "        xk=Xib[i];yk=Yib[i]\n",
    "        ssht_time=ssht[k,:];ut_time=ut[k,:];vt_time=vt[k,:]\n",
    "        dlat=d;dlon=d*4\n",
    "        pointvec=np.array([[xk,yk],[xk+dlon,yk],[xk-dlon,yk],[xk,yk+dlat],[xk,yk-dlat]])\n",
    "        xp=pointvec[:,0];yp=pointvec[:,1]\n",
    "        box_x1=xk-2;box_x2=xk+2# box of 4 lon length and 1 lat height to snap obs in that area for computing interpolation.\n",
    "        box_y1=yk-0.5;box_y2=yk+0.5\n",
    "        j1=np.where(Xt>=box_x1,Xt,0);j2=np.where(Xt<=box_x2,j1,0)\n",
    "        i1=np.where(Yt>=box_y1,Yt,0);i2=np.where(Yt<=box_y2,i1,0)\n",
    "        Xtn=[];Ytn=[]\n",
    "        ut_ti=[];vt_ti=[];ssht_ti=[]\n",
    "    #     ssht_time=np.where(ssht_time>1.5,np.nan,ssht_time)\n",
    "        for j in range(len(j2)):\n",
    "            if j2[j]!=0 and i2[j]!=0:\n",
    "                Xtn=np.append(Xtn,j2[j]);Ytn=np.append(Ytn,i2[j])\n",
    "                ssht_ti=np.append(ssht_ti,ssht_time[j])\n",
    "                ut_ti=np.append(ut_ti,ut_time[j])\n",
    "                vt_ti=np.append(vt_ti,vt_time[j])\n",
    "\n",
    "    #     hist,bin_edges=np.histogram(ssht_ti)\n",
    "    #     print(min(bin_edges))\n",
    "    #     print(max(bin_edges))\n",
    "    #     print(np.shape(Xtn))\n",
    "    #     print(np.shape(Ytn))\n",
    "        points=np.array([Xtn,Ytn]).T\n",
    "        sshgrid = griddata(points, ssht_ti, (xp, yp), method='linear')\n",
    "        utgrid=griddata(points, ut_ti, (xk, yk), method='linear')\n",
    "        vtgrid=griddata(points, vt_ti, (xk, yk), method='linear')\n",
    "        dzx=sshgrid[1]-sshgrid[2]; dzy=sshgrid[3]-sshgrid[4]\n",
    "        dzxr=sshgrid[1]-sshgrid[0];dzyr=sshgrid[3]-sshgrid[0]\n",
    "        dzxl=sshgrid[0]-sshgrid[2];dzyl=sshgrid[0]-sshgrid[4]\n",
    "        dx=111320*(dlon/4.);dy=111320*dlat\n",
    "    #     print(sshgrid)\n",
    "        Pgx=np.append(Pgx,dzx/(2*(dx)));Pgy=np.append(Pgy,dzy/(2*dy))\n",
    "        h=np.append(h,sshgrid[0])\n",
    "        Ut=np.append(Ut,utgrid)\n",
    "        Vt=np.append(Vt,vtgrid)\n",
    "    #     print(Pgx,Pgy)\n",
    "    #     print(dzxr/(dx),dzxl/(dx))\n",
    "    #     print(dzyr/dy,dzyl/dy)\n",
    "        k+=1\n",
    "    Pgxvec=np.append(Pgxvec,Pgx)\n",
    "    Pgyvec=np.append(Pgyvec,Pgy)\n",
    "   "
   ]
  },
  {
   "cell_type": "code",
   "execution_count": 31,
   "metadata": {},
   "outputs": [
    {
     "name": "stderr",
     "output_type": "stream",
     "text": [
      "No handles with labels found to put in legend.\n"
     ]
    },
    {
     "data": {
      "text/plain": [
       "Text(0.5, 0, 'dlat')"
      ]
     },
     "execution_count": 31,
     "metadata": {},
     "output_type": "execute_result"
    },
    {
     "data": {
      "image/png": "[encoded data removed]",
      "text/plain": [
       "<Figure size 864x360 with 2 Axes>"
      ]
     },
     "metadata": {
      "needs_background": "light"
     },
     "output_type": "display_data"
    }
   ],
   "source": [
    "fig=plt.figure(figsize=(12, 5), frameon=True)\n",
    "plt.subplot(1,2,1)\n",
    "plt.plot(4.*dlatvec,Pgxvec)\n",
    "plt.ylabel('x-PG',fontweight='bold')\n",
    "plt.xlabel('dlon',fontweight='bold')\n",
    "plt.legend()\n",
    "plt.subplot(1,2,2)\n",
    "plt.plot(dlatvec,Pgyvec)\n",
    "plt.ylabel('y-PG',fontweight='bold')\n",
    "plt.xlabel('dlat',fontweight='bold')\n",
    "\n"
   ]
  },
  {
   "cell_type": "code",
   "execution_count": 15,
   "metadata": {},
   "outputs": [
    {
     "name": "stdout",
     "output_type": "stream",
     "text": [
      "0.0016545791870467197\n"
     ]
    }
   ],
   "source": [
    "# verify with simple 1d model\n",
    "### model constant def.\n",
    "g=9.81\n",
    "rho_w=1000.\n",
    "tmplier=1/60.  #1/30. #multiplier for time reducing time steps in case model has some issues.\n",
    "days=3600.*24\n",
    "hours=3600.\n",
    "omega=(2.0*np.pi)/(24.0*3600)\n",
    "f=2*omega*np.sin(np.deg2rad(yk))\n",
    "# friction coeff\n",
    "Chezy=77\n",
    "Cbi=g/Chezy**2\n",
    "Cbi=1*Cbi\n",
    "print(Cbi)\n",
    "def modelFx(x,consts,dt):\n",
    "    [f, H, Pgxt,Pgyt] =consts\n",
    "    # print(\"h=\"+str(consts[1]))\n",
    "    [u,v] = x\n",
    "    u_mag = np.sqrt((u)**2+(v)**2)\n",
    "    Fx=np.zeros(2)\n",
    "    Fx[0]=-(Cbi*rho_w*u*u_mag /(rho_w*H))+f*(v)-g*( Pgxt)\n",
    "    Fx[1]=-(Cbi*rho_w*v*u_mag/(rho_w*H))-f*(u)-g*( Pgyt)  \n",
    "    return (Fx)         \n",
    "def rk4(x,consts,dt):\n",
    "    k1=modelFx(x,consts,dt)\n",
    "    k2=modelFx(x+(dt/2)*k1,consts,dt)\n",
    "    k3=modelFx(x+(dt/2)*k2,consts,dt)\n",
    "    k4=modelFx(x+dt*k3,consts,dt)\n",
    "    Mx=x+(dt/6)*(k1+2*k2+2*k3+k4)\n",
    "    return Mx"
   ]
  },
  {
   "cell_type": "code",
   "execution_count": 16,
   "metadata": {},
   "outputs": [],
   "source": [
    "def simulate(x0,f,Pgx,Pgy,h,times):\n",
    "    x=x0 ;dt=15*60.\n",
    "    results=np.zeros((len(x),len(times)))\n",
    "    ti=0\n",
    "    # loop\n",
    "    for t in times:\n",
    "        results[:,ti]=x[:]     \n",
    "        Hi=83.\n",
    "        consts=[f,Hi,Pgx[ti],Pgy[ti]]\n",
    "        xn=rk4(x,consts,dt)\n",
    "        x  = xn\n",
    "        ti+=1                                                                                                                                                                                                                                                                                                                                                                                                                                                                                                                                                                                                                                                                                                                                                                                                                                                                                                                                                                                          \n",
    "    return(results)"
   ]
  },
  {
   "cell_type": "code",
   "execution_count": 17,
   "metadata": {},
   "outputs": [],
   "source": [
    "x0=[Ut[0],Vt[0]]\n",
    "times=range((500))\n",
    "results=simulate(x0,f,Pgx,Pgy,h,times)"
   ]
  },
  {
   "cell_type": "code",
   "execution_count": null,
   "metadata": {},
   "outputs": [],
   "source": [
    "fig=plt.figure(figsize=(12, 5), frameon=True)\n",
    "plt.subplot(1,2,1)\n",
    "plt.plot(results[0,:],label='1D')\n",
    "plt.plot(Ut,label='GTSM')\n",
    "plt.ylabel('U tidal vel')\n",
    "plt.legend()\n",
    "plt.subplot(1,2,2)\n",
    "plt.plot(results[1,:],label='1D')\n",
    "plt.plot(Vt,label='GTSM')\n",
    "plt.ylabel('V tidal vel')\n",
    "plt.legend()"
   ]
  },
  {
   "cell_type": "code",
   "execution_count": null,
   "metadata": {
    "scrolled": true
   },
   "outputs": [],
   "source": [
    "fig=plt.figure(figsize=(12, 12), frameon=True)\n",
    "ax=plt.axes(projection=ccrs.LambertAzimuthalEqualArea(central_longitude=25.0,central_latitude=77.0))\n",
    "# # ax.set_extent([15,33,74,81]) \n",
    "ax.set_extent([20,30,76,78]) \n",
    "ax.scatter(Xtn,Ytn,transform=ccrs.PlateCarree())\n",
    "plt.scatter(xp,yp,color='black',transform=ccrs.PlateCarree())\n",
    "# # ax.plot(Xib, Yib,transform=ccrs.PlateCarree(),color='red') \n",
    "feature=cpf.GSHHSFeature(scale='i',levels=[1],facecolor='#e6e1e1',alpha=1)\n",
    "ax.add_feature(feature) \n"
   ]
  },
  {
   "cell_type": "code",
   "execution_count": null,
   "metadata": {},
   "outputs": [],
   "source": []
  },
  {
   "cell_type": "code",
   "execution_count": null,
   "metadata": {},
   "outputs": [],
   "source": []
  },
  {
   "cell_type": "code",
   "execution_count": null,
   "metadata": {},
   "outputs": [],
   "source": [
    "OK = OrdinaryKriging(\n",
    "    Xtn,\n",
    "    Ytn,\n",
    "    ssht_ti,\n",
    "    variogram_model=\"linear\",\n",
    "    variogram_parameters={'slope': 1.,'nugget': 0.},\n",
    "    verbose=False,\n",
    "    enable_plotting=False)\n",
    "xpn=np.array([xk-dlon,xk,xk+dlon])\n",
    "ypn=np.array([yk-dlat,yk,yk+dlat])\n",
    "sshz, ss = OK.execute(\"grid\", xpn, ypn)"
   ]
  },
  {
   "cell_type": "code",
   "execution_count": null,
   "metadata": {
    "scrolled": true
   },
   "outputs": [],
   "source": [
    "plt.imshow(sshz)\n",
    "plt.colorbar()"
   ]
  },
  {
   "cell_type": "code",
   "execution_count": null,
   "metadata": {},
   "outputs": [],
   "source": [
    "dzx=sshz[1,2]-sshz[1,0];dzy=sshz[2,1]-sshz[0,1]\n",
    "dzxr=sshz[1,2]-sshz[1,1];dzyr=sshz[2,1]-sshz[1,1]\n",
    "dzxl=sshz[1,1]-sshz[1,0];dzyl=sshz[1,1]-sshz[0,1]\n",
    "dx=111320*(dlon/4.);dy=111320*dlat\n",
    "print(dzx/(2*(dx)),dzy/(2*dy))\n",
    "print(dzxr/(dx),dzxl/(dx))\n",
    "print(dzyr/dy,dzyl/dy)"
   ]
  },
  {
   "cell_type": "code",
   "execution_count": null,
   "metadata": {},
   "outputs": [],
   "source": [
    "import scipy.io\n",
    "# create a .mat file for cornelis for sea surface heights."
   ]
  },
  {
   "cell_type": "code",
   "execution_count": null,
   "metadata": {},
   "outputs": [],
   "source": [
    "tvec=[632,840,288,1500]\n",
    "data={};    j=1\n",
    "for i in tvec:\n",
    "    valdict={}\n",
    "    pname='B9_'+str(j)\n",
    "    B9ti=i;\n",
    "    lon=Xib[i];lat=Yib[i]\n",
    "    #Xt, Yt is gtsm cell centers\n",
    "    sshti=ssht[i,:]\n",
    "    uti=ut[i,:];vti=vt[i,:]\n",
    "    print(len(sshti))\n",
    "    valdict={'Lon':lon,'Lat':lat,'ssh':sshti,'ut':uti,'vt':vti,'Xt':Xt,'Yt':Yt}\n",
    "    temp={pname:valdict}\n",
    "    data.update(temp)\n",
    "    j+=1\n",
    "print(data)"
   ]
  },
  {
   "cell_type": "code",
   "execution_count": null,
   "metadata": {},
   "outputs": [],
   "source": [
    "scipy.io.savemat('sshdata.mat', data)"
   ]
  },
  {
   "cell_type": "code",
   "execution_count": null,
   "metadata": {},
   "outputs": [],
   "source": [
    "mat = scipy.io.loadmat('sshdata.mat')"
   ]
  },
  {
   "cell_type": "code",
   "execution_count": null,
   "metadata": {},
   "outputs": [],
   "source": [
    "loc='../../container/Model_n_buoy_data/gtsm_truncated_wd.nc'\n",
    "GTSM_data= nc4.Dataset(loc)\n"
   ]
  },
  {
   "cell_type": "code",
   "execution_count": null,
   "metadata": {},
   "outputs": [],
   "source": [
    "gtsm_grp=GTSM_data.groups['GTSM Tidal truncated data']\n",
    "Xt=np.array(gtsm_grp.variables[\"FlowElem_xcc\"]) #X is longitdue and Y is latitude\n",
    "Yt=np.array(gtsm_grp.variables[\"FlowElem_ycc\"])\n",
    "Tt=np.array(gtsm_grp.variables[\"Time\"]) \n",
    "wdt=np.array(gtsm_grp.variables[\"waterdepth\"])\n"
   ]
  },
  {
   "cell_type": "code",
   "execution_count": null,
   "metadata": {},
   "outputs": [],
   "source": [
    "print((Xt))"
   ]
  }
 ],
 "metadata": {
  "kernelspec": {
   "display_name": "Python 3",
   "language": "python",
   "name": "python3"
  },
  "language_info": {
   "codemirror_mode": {
    "name": "ipython",
    "version": 3
   },
   "file_extension": ".py",
   "mimetype": "text/x-python",
   "name": "python",
   "nbconvert_exporter": "python",
   "pygments_lexer": "ipython3",
   "version": "3.7.5"
  }
 },
 "nbformat": 4,
 "nbformat_minor": 4
}
