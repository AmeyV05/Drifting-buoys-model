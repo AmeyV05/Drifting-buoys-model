{
 "cells": [
  {
   "cell_type": "markdown",
   "metadata": {},
   "source": [
    "This notebook reads through the data for all the buoys and plots the relevant figures. As done for a single buoy, we will first import some requisite modules. "
   ]
  },
  {
   "cell_type": "code",
   "execution_count": 10,
   "metadata": {},
   "outputs": [],
   "source": [
    "import importlib\n",
    "import numpy as np\n",
    "import pandas as pd\n",
    "import matplotlib.pyplot as plt\n",
    "import plots\n",
    "import readsimdata\n",
    "import settings\n",
    "import generalfunc as gf \n",
    "import os"
   ]
  },
  {
   "cell_type": "code",
   "execution_count": 11,
   "metadata": {},
   "outputs": [],
   "source": [
    "#plotting parameters.\n",
    "params = { \"pgf.texsystem\": \"pdflatex\",\n",
    "           \"pgf.preamble\": [ r\"\\usepackage[utf8x]{inputenc}\",\n",
    "                             r\"\\usepackage[T1]{fontenc}\",\n",
    "                             r\"\\usepackage{cmbright}\"],\n",
    "            'legend.fontsize': '10',\n",
    "            'axes.labelsize': '11',\n",
    "            'axes.titlesize':'11',\n",
    "            'xtick.labelsize':'11',\n",
    "            'ytick.labelsize':'11',\n",
    "            \"font.weight\":'bold'}\n",
    "plt.rcParams.update(params)"
   ]
  },
  {
   "cell_type": "markdown",
   "metadata": {},
   "source": [
    "At first we try to plot all the observed buoy tracks on a single plot. For this we need to read the data from all the buoys stored in the folder named $container.$"
   ]
  },
  {
   "cell_type": "code",
   "execution_count": 12,
   "metadata": {},
   "outputs": [],
   "source": [
    "importlib.reload(readsimdata)\n",
    "folder='../../container/Buoy_data_excel/procesd_buoy_loc_data_Lars'\n",
    "BD=readsimdata.readallbuoy(folder)"
   ]
  },
  {
   "cell_type": "code",
   "execution_count": 13,
   "metadata": {},
   "outputs": [
    {
     "name": "stdout",
     "output_type": "stream",
     "text": [
      "Allbuoys directory already exists.\n"
     ]
    }
   ],
   "source": [
    "importlib.reload(plots)\n",
    "locname='Allbuoys'\n",
    "loc='../../generated_data/'+locname\n",
    "gf.mkdir_p(loc)\n",
    "# plots.pltallbuoytracks(loc,BD)"
   ]
  },
  {
   "cell_type": "markdown",
   "metadata": {},
   "source": [
    "Now the next plotting is about graphs for all the buoys and different forcings. Here we plot the amplitude and phase of the residual velocity vectors at the different tidal frequencies for all the buoys with different forcings."
   ]
  },
  {
   "cell_type": "code",
   "execution_count": 8,
   "metadata": {},
   "outputs": [],
   "source": [
    "def computedict(folder,barray,typ,tidindex):\n",
    "    #loc means generated data folder.\n",
    "    tidval={} #tid is the type of tide like M2    \n",
    "    for b in barray:\n",
    "        SD=readsimdata.readsimdata(b,folder)\n",
    "        if typ=='buoy':\n",
    "            AmvecU=SD['BAmpU'];PhvecU=SD['BPhU']\n",
    "            AmvecV=SD['BAmpV'];PhvecV=SD['BPhV']\n",
    "            tidvalft=np.array([AmvecU[tidindex],PhvecU[tidindex],AmvecV[tidindex],PhvecV[tidindex]])\n",
    "        elif typ=='sim':\n",
    "            AmvecU=SD['SAmpU'];PhvecU=SD['SPhU']\n",
    "            AmvecV=SD['SAmpV'];PhvecV=SD['SPhV']\n",
    "            tidvalft=np.array([AmvecU[tidindex],PhvecU[tidindex],AmvecV[tidindex],PhvecV[tidindex]])\n",
    "        tidval.update({b:tidvalft})\n",
    "    return(tidval)"
   ]
  },
  {
   "cell_type": "code",
   "execution_count": 15,
   "metadata": {},
   "outputs": [
    {
     "name": "stdout",
     "output_type": "stream",
     "text": [
      "no_coriolis directory created\n",
      "U_Amplitude (m/s)\n",
      "[0.11129794 0.15245395 0.09877526 0.08262318 0.27716573 0.20448669] [0.07808554 0.13312933 0.08319742 0.06327474 0.26177156 0.16392376] [0.0752412  0.12361683 0.07588577 0.05077246 0.23624982 0.15737397]\n",
      "U_Phase (deg)\n",
      "[-141.72255485  -64.7612983  -113.03780655  -66.48364913  -26.16397569\n",
      "  -68.6338441 ] [-166.05649749  -93.61819839 -142.53583515  -78.0605413   -50.26563091\n",
      "  -97.1723884 ] [-173.61016487 -101.98893801 -153.0030661   -84.58325089  -56.32129491\n",
      " -105.11787926]\n",
      "V_Amplitude (m/s)\n",
      "[0.09542751 0.13808085 0.10526378 0.09481807 0.19137874 0.16928929] [0.06609088 0.11273061 0.08921476 0.07515547 0.18584152 0.126634  ] [0.06721352 0.11536664 0.09039167 0.08010146 0.20622201 0.12615422]\n",
      "V_Phase (deg)\n",
      "[-57.73574638  14.69466907 -33.33549021 -10.2204829   30.34036539\n",
      "  21.21509718] [-87.48301475 -17.36494194 -66.03334548 -40.34609707   2.55162386\n",
      " -11.11655799] [-97.75047112 -29.33585373 -75.11137167 -45.43147189  -6.96067871\n",
      " -24.29755595]\n",
      "no_air directory created\n",
      "U_Amplitude (m/s)\n",
      "[0.11129794 0.15245395 0.09877526 0.08262318 0.27716573 0.20448669] [0.07808554 0.13312933 0.08319742 0.06327474 0.26177156 0.16392376] [0.08074384 0.13898131 0.08468038 0.06318203 0.27104399 0.17035608]\n",
      "U_Phase (deg)\n",
      "[-141.72255485  -64.7612983  -113.03780655  -66.48364913  -26.16397569\n",
      "  -68.6338441 ] [-166.05649749  -93.61819839 -142.53583515  -78.0605413   -50.26563091\n",
      "  -97.1723884 ] [-165.15912926  -93.52341051 -142.3681387   -77.25434267  -50.35360039\n",
      "  -96.71154816]\n",
      "V_Amplitude (m/s)\n",
      "[0.09542751 0.13808085 0.10526378 0.09481807 0.19137874 0.16928929] [0.06609088 0.11273061 0.08921476 0.07515547 0.18584152 0.126634  ] [0.06741777 0.11639856 0.08994388 0.0735603  0.18943165 0.131019  ]\n",
      "V_Phase (deg)\n",
      "[-57.73574638  14.69466907 -33.33549021 -10.2204829   30.34036539\n",
      "  21.21509718] [-87.48301475 -17.36494194 -66.03334548 -40.34609707   2.55162386\n",
      " -11.11655799] [-87.20034942 -16.87937776 -65.8339159  -38.75868543   3.28979731\n",
      " -10.63044622]\n",
      "no_tidal directory created\n",
      "U_Amplitude (m/s)\n",
      "[0.11129794 0.15245395 0.09877526 0.08262318 0.27716573 0.20448669] [0.07808554 0.13312933 0.08319742 0.06327474 0.26177156 0.16392376] [0.00282951 0.00942071 0.00283473 0.00655385 0.02676842 0.01065107]\n",
      "U_Phase (deg)\n",
      "[-141.72255485  -64.7612983  -113.03780655  -66.48364913  -26.16397569\n",
      "  -68.6338441 ] [-166.05649749  -93.61819839 -142.53583515  -78.0605413   -50.26563091\n",
      "  -97.1723884 ] [-79.95347398 -10.61181844 -15.0929799   60.51615488  50.22853669\n",
      " -26.55299588]\n",
      "V_Amplitude (m/s)\n",
      "[0.09542751 0.13808085 0.10526378 0.09481807 0.19137874 0.16928929] [0.06609088 0.11273061 0.08921476 0.07515547 0.18584152 0.126634  ] [0.00341956 0.00653996 0.00358341 0.012564   0.02539571 0.00442209]\n",
      "V_Phase (deg)\n",
      "[-57.73574638  14.69466907 -33.33549021 -10.2204829   30.34036539\n",
      "  21.21509718] [-87.48301475 -17.36494194 -66.03334548 -40.34609707   2.55162386\n",
      " -11.11655799] [-124.3317351   -40.63954238  -58.13454668  -42.82217918  -23.20238274\n",
      " -105.20031579]\n",
      "no_ocean directory created\n",
      "U_Amplitude (m/s)\n",
      "[0.11129794 0.15245395 0.09877526 0.08262318 0.27716573 0.20448669] [0.07808554 0.13312933 0.08319742 0.06327474 0.26177156 0.16392376] [0.07713997 0.13166826 0.08176456 0.06160298 0.26149554 0.16453221]\n",
      "U_Phase (deg)\n",
      "[-141.72255485  -64.7612983  -113.03780655  -66.48364913  -26.16397569\n",
      "  -68.6338441 ] [-166.05649749  -93.61819839 -142.53583515  -78.0605413   -50.26563091\n",
      "  -97.1723884 ] [-165.07481625  -94.40550463 -143.29360224  -75.06017379  -49.75346999\n",
      "  -98.14839064]\n",
      "V_Amplitude (m/s)\n",
      "[0.09542751 0.13808085 0.10526378 0.09481807 0.19137874 0.16928929] [0.06609088 0.11273061 0.08921476 0.07515547 0.18584152 0.126634  ] [0.06494066 0.1115512  0.08847596 0.07192099 0.18541782 0.12710641]\n",
      "V_Phase (deg)\n",
      "[-57.73574638  14.69466907 -33.33549021 -10.2204829   30.34036539\n",
      "  21.21509718] [-87.48301475 -17.36494194 -66.03334548 -40.34609707   2.55162386\n",
      " -11.11655799] [-87.58926607 -18.68867353 -66.52551715 -39.40554906   2.27616917\n",
      " -11.61912038]\n",
      "no_pgocean directory created\n",
      "U_Amplitude (m/s)\n",
      "[0.11129794 0.15245395 0.09877526 0.08262318 0.27716573 0.20448669] [0.07808554 0.13312933 0.08319742 0.06327474 0.26177156 0.16392376] [0.07815573 0.13291197 0.08368281 0.06311278 0.26217792 0.16409865]\n",
      "U_Phase (deg)\n",
      "[-141.72255485  -64.7612983  -113.03780655  -66.48364913  -26.16397569\n",
      "  -68.6338441 ] [-166.05649749  -93.61819839 -142.53583515  -78.0605413   -50.26563091\n",
      "  -97.1723884 ] [-165.97267363  -93.58904014 -142.48277359  -78.17342872  -50.40869441\n",
      "  -97.26500631]\n",
      "V_Amplitude (m/s)\n",
      "[0.09542751 0.13808085 0.10526378 0.09481807 0.19137874 0.16928929] [0.06609088 0.11273061 0.08921476 0.07515547 0.18584152 0.126634  ] [0.06635975 0.11237084 0.08930209 0.075397   0.1863313  0.1263998 ]\n",
      "V_Phase (deg)\n",
      "[-57.73574638  14.69466907 -33.33549021 -10.2204829   30.34036539\n",
      "  21.21509718] [-87.48301475 -17.36494194 -66.03334548 -40.34609707   2.55162386\n",
      " -11.11655799] [-87.51599182 -17.26901021 -65.98578859 -40.35730935   2.56932042\n",
      " -11.1547278 ]\n",
      "no_pgtidal directory created\n",
      "U_Amplitude (m/s)\n",
      "[0.11129794 0.15245395 0.09877526 0.08262318 0.27716573 0.20448669] [0.07808554 0.13312933 0.08319742 0.06327474 0.26177156 0.16392376] [0.07989007 0.13222961 0.08661728 0.0716462  0.26892027 0.16002495]\n",
      "U_Phase (deg)\n",
      "[-141.72255485  -64.7612983  -113.03780655  -66.48364913  -26.16397569\n",
      "  -68.6338441 ] [-166.05649749  -93.61819839 -142.53583515  -78.0605413   -50.26563091\n",
      "  -97.1723884 ] [-169.11121585  -96.5448286  -142.61448756  -83.58434419  -56.14344462\n",
      "  -99.75118928]\n",
      "V_Amplitude (m/s)\n",
      "[0.09542751 0.13808085 0.10526378 0.09481807 0.19137874 0.16928929] [0.06609088 0.11273061 0.08921476 0.07515547 0.18584152 0.126634  ] [0.06535834 0.10819489 0.08726468 0.06768971 0.16643832 0.12752295]\n",
      "V_Phase (deg)\n",
      "[-57.73574638  14.69466907 -33.33549021 -10.2204829   30.34036539\n",
      "  21.21509718] [-87.48301475 -17.36494194 -66.03334548 -40.34609707   2.55162386\n",
      " -11.11655799] [-85.00210985 -15.11808006 -65.42951557 -41.45748106   6.59356109\n",
      "  -8.71954169]\n"
     ]
    }
   ],
   "source": [
    "basefol='h1f1A1T1O1Po1Pt1Bf0'\n",
    "barray=['02','03','09','13','14','16'] \n",
    "tide='M2';tidindex=2\n",
    "btidval=computedict(basefol,barray,'buoy',tidindex)\n",
    "stidval=computedict(basefol,barray,'sim',tidindex)\n",
    "typ=['no_coriolis','no_air','no_tidal','no_ocean','no_pgocean','no_pgtidal']\n",
    "# typ=['cor+pgs+bf+air']\n",
    "# typ=['no_air']\n",
    "on='1';off='0'\n",
    "# bname='BUOY_'+b\n",
    "for t in range(len(typ)):\n",
    "    ofv=[on,on,on,on,on,on,on]\n",
    "    if typ[t]=='cor+pgs':\n",
    "        ofv[1]=ofv[2]=ofv[3]=ofv[4]=ofv[6]=off\n",
    "    elif typ[t]=='cor+pgs+bf':\n",
    "        ofv[1]=ofv[2]=ofv[3]=ofv[4]=off\n",
    "    elif typ[t]=='cor+pgs+bf+air':\n",
    "        ofv[2]=ofv[3]=ofv[4]=off\n",
    "    else:\n",
    "        ofv[t]=off;ofv[6]=off\n",
    "    compfol='h1'+'f'+ofv[0]+'A'+ofv[1]+'T'+ofv[2]+'O'+ofv[3]+'Po'+ofv[4]+'Pt'+ofv[5]+'Bf'+ofv[6]\n",
    "    ftidval=computedict(compfol,barray,'sim',tidindex)\n",
    "    ftyp=typ[t]\n",
    "    gf.mkdir_p(loc+'/'+ftyp)    \n",
    "    plottidal(tide,ftyp,loc,barray,btidval,stidval,ftidval)"
   ]
  },
  {
   "cell_type": "code",
   "execution_count": 6,
   "metadata": {},
   "outputs": [],
   "source": [
    "def plottidal(tide,ftyp,loc,barray,btidval,stidval,ftidval):\n",
    "    btidvec=np.array(list(btidval.values()))\n",
    "    stidvec=np.array(list(stidval.values()))\n",
    "    ftidvec=np.array(list(ftidval.values()))\n",
    "    namevec=['U_Amplitude (m/s)','U_Phase (deg)','V_Amplitude (m/s)','V_Phase (deg)']\n",
    "    for n in range(len(namevec)):\n",
    "        name=namevec[n]\n",
    "        fig=plt.figure(figsize=(12,7),frameon=True)      \n",
    "        plt.plot(barray,btidvec[:,n], marker='o', linestyle='dashed',\n",
    "                 linewidth=2, markersize=12,label='observed')\n",
    "        plt.plot(barray,stidvec[:,n], marker='o', linestyle='dashed',\n",
    "                 linewidth=2, markersize=12,label='model')\n",
    "        plt.plot(barray,ftidvec[:,n], marker='o', linestyle='dashed',\n",
    "                 linewidth=2, markersize=12,label=ftyp)\n",
    "        plt.xlabel('Buoys',fontsize=16,fontweight='bold')\n",
    "        plt.ylabel(name,fontsize=16,fontweight='bold')\n",
    "        print(name)\n",
    "        print(btidvec[:,n],stidvec[:,n],ftidvec[:,n])\n",
    "        plt.legend(loc=1)\n",
    "#         plt.title(title,fontsize=18,fontweight='bold')\n",
    "        plt.savefig(loc+'/'+ftyp+'/'+ftyp+tide+name[0:4]+'.jpg',format='jpg')\n",
    "        plt.close(fig)\n"
   ]
  },
  {
   "cell_type": "code",
   "execution_count": null,
   "metadata": {},
   "outputs": [],
   "source": []
  }
 ],
 "metadata": {
  "kernelspec": {
   "display_name": "Python 3",
   "language": "python",
   "name": "python3"
  },
  "language_info": {
   "codemirror_mode": {
    "name": "ipython",
    "version": 3
   },
   "file_extension": ".py",
   "mimetype": "text/x-python",
   "name": "python",
   "nbconvert_exporter": "python",
   "pygments_lexer": "ipython3",
   "version": "3.7.5"
  }
 },
 "nbformat": 4,
 "nbformat_minor": 2
}
