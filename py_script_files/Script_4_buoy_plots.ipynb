{
 "cells": [
  {
   "cell_type": "code",
   "execution_count": 27,
   "metadata": {},
   "outputs": [],
   "source": [
    "# script for plotting all buoy data. \n",
    "import pandas as pd\n",
    "import numpy as np\n",
    "import cartopy.crs as ccrs\n",
    "import cartopy.feature as cpf \n",
    "import matplotlib.pyplot as plt\n",
    "import genplots as gp\n",
    "from cartopy.mpl.gridliner import LONGITUDE_FORMATTER, LATITUDE_FORMATTER\n",
    "import os\n",
    "np.set_printoptions(threshold=np.inf)\n",
    "params = {'legend.fontsize': '16',\n",
    "         'axes.labelsize': 'x-large',\n",
    "         'axes.titlesize':'x-large',\n",
    "         'xtick.labelsize':'16',\n",
    "         'ytick.labelsize':'16',\n",
    "         \"font.weight\":'bold'}\n",
    "plt.rcParams.update(params)"
   ]
  },
  {
   "cell_type": "code",
   "execution_count": 18,
   "metadata": {},
   "outputs": [
    {
     "name": "stdout",
     "output_type": "stream",
     "text": [
      "02_x\n",
      "\n"
     ]
    }
   ],
   "source": [
    "folder='../Buoy_data_excel/procesd_buoy_loc_data_Lars/BUOY_02.csv'\n",
    "buoy=os.path.basename(folder)\n",
    "bname=buoy.split('.')[0]\n",
    "print(bname.split('_')[1]+'_x')\n",
    "print()"
   ]
  },
  {
   "cell_type": "code",
   "execution_count": 19,
   "metadata": {},
   "outputs": [
    {
     "name": "stdout",
     "output_type": "stream",
     "text": [
      "../Buoy_data_excel/procesd_buoy_loc_data_Lars/BUOY_02.csv\n",
      "../Buoy_data_excel/procesd_buoy_loc_data_Lars/BUOY_03.csv\n",
      "../Buoy_data_excel/procesd_buoy_loc_data_Lars/BUOY_07.csv\n",
      "../Buoy_data_excel/procesd_buoy_loc_data_Lars/BUOY_09.csv\n",
      "../Buoy_data_excel/procesd_buoy_loc_data_Lars/BUOY_12.csv\n",
      "../Buoy_data_excel/procesd_buoy_loc_data_Lars/BUOY_13.csv\n",
      "../Buoy_data_excel/procesd_buoy_loc_data_Lars/BUOY_14.csv\n",
      "../Buoy_data_excel/procesd_buoy_loc_data_Lars/BUOY_16.csv\n"
     ]
    }
   ],
   "source": [
    "folder='../Buoy_data_excel/procesd_buoy_loc_data_Lars'\n",
    "BD={}\n",
    "for f in os.listdir(folder):\n",
    "    if f!='BUOY_06.csv':\n",
    "        strfile=folder+'/'+f\n",
    "        buoy=os.path.basename(strfile)\n",
    "        bname=buoy.split('.')[0]\n",
    "        xbname=bname.split('_')[1]+'_x'\n",
    "        ybname=bname.split('_')[1]+'_y'\n",
    "        D=pd.read_csv(strfile)\n",
    "        Xib=np.array(D['Lon'])[96:]\n",
    "        Yib=np.array(D['Lat'])[96:]\n",
    "#         D.head()\n",
    "        BD[xbname]= Xib; BD[ybname]=Yib\n",
    "        print(strfile)"
   ]
  },
  {
   "cell_type": "code",
   "execution_count": 21,
   "metadata": {},
   "outputs": [],
   "source": [
    "# print(BD['02_x'],)\n",
    "Buoys=['02','03','09','07','12','13','14','16']\n",
    "# for b in Buoys:\n",
    "#     print (type(b))\n",
    "#     print(b+'_x')\n"
   ]
  },
  {
   "cell_type": "code",
   "execution_count": 9,
   "metadata": {},
   "outputs": [
    {
     "data": {
      "text/html": [
       "<div>\n",
       "<style scoped>\n",
       "    .dataframe tbody tr th:only-of-type {\n",
       "        vertical-align: middle;\n",
       "    }\n",
       "\n",
       "    .dataframe tbody tr th {\n",
       "        vertical-align: top;\n",
       "    }\n",
       "\n",
       "    .dataframe thead th {\n",
       "        text-align: right;\n",
       "    }\n",
       "</style>\n",
       "<table border=\"1\" class=\"dataframe\">\n",
       "  <thead>\n",
       "    <tr style=\"text-align: right;\">\n",
       "      <th></th>\n",
       "      <th>Date(GMT)</th>\n",
       "      <th>Lat</th>\n",
       "      <th>Lon</th>\n",
       "    </tr>\n",
       "  </thead>\n",
       "  <tbody>\n",
       "    <tr>\n",
       "      <th>0</th>\n",
       "      <td>15-3-2014 00:00</td>\n",
       "      <td>79.1288</td>\n",
       "      <td>25.2050</td>\n",
       "    </tr>\n",
       "    <tr>\n",
       "      <th>1</th>\n",
       "      <td>15-3-2014 00:15</td>\n",
       "      <td>79.1278</td>\n",
       "      <td>25.2010</td>\n",
       "    </tr>\n",
       "    <tr>\n",
       "      <th>2</th>\n",
       "      <td>15-3-2014 00:30</td>\n",
       "      <td>79.1266</td>\n",
       "      <td>25.1970</td>\n",
       "    </tr>\n",
       "    <tr>\n",
       "      <th>3</th>\n",
       "      <td>15-3-2014 00:45</td>\n",
       "      <td>79.1254</td>\n",
       "      <td>25.1926</td>\n",
       "    </tr>\n",
       "    <tr>\n",
       "      <th>4</th>\n",
       "      <td>15-3-2014 01:00</td>\n",
       "      <td>79.1242</td>\n",
       "      <td>25.1874</td>\n",
       "    </tr>\n",
       "  </tbody>\n",
       "</table>\n",
       "</div>"
      ],
      "text/plain": [
       "         Date(GMT)      Lat      Lon\n",
       "0  15-3-2014 00:00  79.1288  25.2050\n",
       "1  15-3-2014 00:15  79.1278  25.2010\n",
       "2  15-3-2014 00:30  79.1266  25.1970\n",
       "3  15-3-2014 00:45  79.1254  25.1926\n",
       "4  15-3-2014 01:00  79.1242  25.1874"
      ]
     },
     "execution_count": 9,
     "metadata": {},
     "output_type": "execute_result"
    }
   ],
   "source": [
    "#Buoy data analysis\n",
    "\n",
    "D=pd.read_csv('../Buoy_data_excel/procesd_buoy_loc_data_Lars/BUOY_16.csv')\n",
    "Xib=np.array(D['Lon'])[96:]\n",
    "Yib=np.array(D['Lat'])[96:]\n",
    "D.head()"
   ]
  },
  {
   "cell_type": "code",
   "execution_count": 26,
   "metadata": {},
   "outputs": [
    {
     "name": "stderr",
     "output_type": "stream",
     "text": [
      "C:\\Users\\vasulkar\\AppData\\Local\\Continuum\\anaconda3\\lib\\site-packages\\cartopy\\mpl\\geoaxes.py:782: MatplotlibDeprecationWarning: Passing the minor parameter of set_xticks() positionally is deprecated since Matplotlib 3.2; the parameter will become keyword-only two minor releases later.\n",
      "  return super(GeoAxes, self).set_xticks(xticks, minor)\n",
      "C:\\Users\\vasulkar\\AppData\\Local\\Continuum\\anaconda3\\lib\\site-packages\\cartopy\\mpl\\geoaxes.py:829: MatplotlibDeprecationWarning: Passing the minor parameter of set_yticks() positionally is deprecated since Matplotlib 3.2; the parameter will become keyword-only two minor releases later.\n",
      "  return super(GeoAxes, self).set_yticks(yticks, minor)\n",
      "C:\\Users\\vasulkar\\AppData\\Local\\Continuum\\anaconda3\\lib\\site-packages\\owslib\\map\\wms111.py:127: UserWarning: Content metadata for layer \"GEBCO_LATEST\" already exists. Using child layer\n",
      "  warnings.warn('Content metadata for layer \"%s\" already exists. Using child layer' % cm.id)\n",
      "C:\\Users\\vasulkar\\AppData\\Local\\Continuum\\anaconda3\\lib\\site-packages\\owslib\\map\\wms111.py:127: UserWarning: Content metadata for layer \"GEBCO_08_GRID\" already exists. Using child layer\n",
      "  warnings.warn('Content metadata for layer \"%s\" already exists. Using child layer' % cm.id)\n"
     ]
    }
   ],
   "source": [
    "\n",
    "fig=plt.figure(figsize=(12, 12), frameon=True)\n",
    "ax=plt.axes(projection=ccrs.LambertAzimuthalEqualArea(central_longitude=25.0,central_latitude=77.0)) \n",
    "# feature=cpf.GSHHSFeature(scale='i',levels=[1],facecolor='#A3A3A3',alpha=1)\n",
    "ax.set_extent([16,28,74.5,80])\n",
    "# Define gridline locations and draw the lines using cartopy's built-in gridliner:\n",
    "# *must* call draw in order to get the axis boundary used to add ticks:\n",
    "# feature=cpf.GSHHSFeature(scale='i',levels=[1],facecolor='#AAAAAA')\n",
    "# ax.add_feature(feature) \n",
    "# \n",
    "colors=['red','green','magenta','darkblue','lime','orange','yellow','olive']\n",
    "fig.canvas.draw()\n",
    "xticks = [ 0, 4, 12, 16, 20, 24, 28, 32, 36]\n",
    "yticks = [72, 74.5, 77, 79.5, 82]\n",
    "ax.gridlines(xlocs=xticks, ylocs=yticks)\n",
    "# Label the end-points of the gridlines using the custom tick makers:\n",
    "ax.xaxis.set_major_formatter(LONGITUDE_FORMATTER) \n",
    "ax.yaxis.set_major_formatter(LATITUDE_FORMATTER)\n",
    "gp.lambert_xticks(ax, xticks)\n",
    "gp.lambert_yticks(ax, yticks)\n",
    "i=0;pt=96*1\n",
    "for b in Buoys:\n",
    "    # Plotting b-uoy obs and buoy simulated locations\n",
    "    Xib=BD[b+'_x'];Yib=BD[b+'_y']\n",
    "    plt.scatter(Xib[pt],Yib[pt],color='black',transform=ccrs.PlateCarree())\n",
    "    plt.text(Xib[pt],Yib[pt], b, transform=ccrs.PlateCarree(),fontsize=15,fontweight='bold')\n",
    "#     plt.annotate(b,(Xib[96],Yib[96]),xycoords='Transform')\n",
    "    plt.plot(Xib[pt:],Yib[pt:],color=colors[i],transform=ccrs.PlateCarree(),label=b)\n",
    "    i+=1\n",
    "#     plt.text(Xib[0],Yib[0],b)\n",
    "# plt.plot(Xis,Yis,'--',color='yellow',transform=ccrs.PlateCarree(),label='simulated ice drift') \n",
    "# gebco wms background \n",
    "service='https://www.gebco.net/data_and_products/gebco_web_services/web_map_service/mapserv?'\n",
    "ax.add_wms(service,layers=['GEBCO_LATEST'],wms_kwargs={'width':900*2,'height':600*2})\n",
    "\n",
    "feature=cpf.GSHHSFeature(scale='i',levels=[1],facecolor='#e6e1e1',alpha=1)\n",
    "ax.add_feature(feature) \n",
    "\n",
    "\n",
    "# plt.legend()\n",
    "\n",
    "plt.savefig('../generated_data/trial.pdf')\n",
    "plt.close(fig) \n",
    "# plt.show() '#AAAAAA' #e6e1e1"
   ]
  },
  {
   "cell_type": "code",
   "execution_count": 50,
   "metadata": {},
   "outputs": [
    {
     "name": "stdout",
     "output_type": "stream",
     "text": [
      "[0. 0. 0. 0.]\n",
      "[1. 1. 1. 1. 1. 1. 0. 0. 0. 0.]\n",
      "[1. 1. 1. 1. 0. 1. 1. 1. 1. 1. 1. 1. 0. 0. 0. 0.]\n",
      "(16,)\n",
      "[1. 1. 1. 0. 1. 1. 1. 1. 1. 1. 1. 0. 0.]\n"
     ]
    }
   ],
   "source": [
    "yo=np.zeros(10);yo[0:6]=1;print(yo[6:]);print(yo)\n",
    "y1=np.ones(4);y4=np.array([0,1])\n",
    "y3=np.concatenate((y1,y4,yo));print(y3);print(np.shape(y3));print(y3[1:-2])\n",
    "# Nk=np.ones(16);y3=y2+Nk;print(y3)"
   ]
  },
  {
   "cell_type": "code",
   "execution_count": null,
   "metadata": {},
   "outputs": [],
   "source": []
  }
 ],
 "metadata": {
  "kernelspec": {
   "display_name": "Python 3",
   "language": "python",
   "name": "python3"
  },
  "language_info": {
   "codemirror_mode": {
    "name": "ipython",
    "version": 3
   },
   "file_extension": ".py",
   "mimetype": "text/x-python",
   "name": "python",
   "nbconvert_exporter": "python",
   "pygments_lexer": "ipython3",
   "version": "3.7.5"
  }
 },
 "nbformat": 4,
 "nbformat_minor": 2
}
